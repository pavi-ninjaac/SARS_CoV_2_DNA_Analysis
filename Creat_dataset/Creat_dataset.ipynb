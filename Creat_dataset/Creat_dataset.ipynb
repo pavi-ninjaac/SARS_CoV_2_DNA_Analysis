{
  "nbformat": 4,
  "nbformat_minor": 0,
  "metadata": {
    "colab": {
      "name": "Creat_dataset",
      "provenance": [],
      "collapsed_sections": [],
      "toc_visible": true,
      "mount_file_id": "1i3JyEJyq_1QssZDdO5kjfRLPI2SJpeC8",
      "authorship_tag": "ABX9TyMTrF5rPjSvw0A5rOqgdm4H",
      "include_colab_link": true
    },
    "kernelspec": {
      "display_name": "Python 3",
      "name": "python3"
    }
  },
  "cells": [
    {
      "cell_type": "markdown",
      "metadata": {
        "id": "view-in-github",
        "colab_type": "text"
      },
      "source": [
        "<a href=\"https://colab.research.google.com/github/pavi-ninjaac/SARS_CoV_2_DNA_Analysis/blob/main/Creat_dataset/Creat_dataset.ipynb\" target=\"_parent\"><img src=\"https://colab.research.google.com/assets/colab-badge.svg\" alt=\"Open In Colab\"/></a>"
      ]
    },
    {
      "cell_type": "markdown",
      "metadata": {
        "id": "0t8hmA6Jqsit"
      },
      "source": [
        "# Creating the dataset"
      ]
    },
    {
      "cell_type": "code",
      "metadata": {
        "colab": {
          "base_uri": "https://localhost:8080/"
        },
        "id": "PxHIJ0Tqqv9U",
        "outputId": "d91a7ce3-9e6e-4802-9c34-f60f7838b5c4"
      },
      "source": [
        "!pip install Bio"
      ],
      "execution_count": null,
      "outputs": [
        {
          "output_type": "stream",
          "text": [
            "Requirement already satisfied: Bio in /usr/local/lib/python3.7/dist-packages (0.4.1)\n",
            "Requirement already satisfied: requests in /usr/local/lib/python3.7/dist-packages (from Bio) (2.23.0)\n",
            "Requirement already satisfied: biopython>=1.78 in /usr/local/lib/python3.7/dist-packages (from Bio) (1.78)\n",
            "Requirement already satisfied: numpy<1.20 in /usr/local/lib/python3.7/dist-packages (from Bio) (1.19.5)\n",
            "Requirement already satisfied: idna<3,>=2.5 in /usr/local/lib/python3.7/dist-packages (from requests->Bio) (2.10)\n",
            "Requirement already satisfied: certifi>=2017.4.17 in /usr/local/lib/python3.7/dist-packages (from requests->Bio) (2020.12.5)\n",
            "Requirement already satisfied: chardet<4,>=3.0.2 in /usr/local/lib/python3.7/dist-packages (from requests->Bio) (3.0.4)\n",
            "Requirement already satisfied: urllib3!=1.25.0,!=1.25.1,<1.26,>=1.21.1 in /usr/local/lib/python3.7/dist-packages (from requests->Bio) (1.24.3)\n"
          ],
          "name": "stdout"
        }
      ]
    },
    {
      "cell_type": "code",
      "metadata": {
        "id": "lWZtjomeq5RQ"
      },
      "source": [
        "from Bio import SeqIO\r\n",
        "from collections import defaultdict\r\n",
        "import math\r\n",
        "\r\n",
        "import numpy as np\r\n",
        "import pandas as pd\r\n",
        "import seaborn as sns\r\n",
        "#vsualization\r\n",
        "from matplotlib import pyplot as plt\r\n",
        "from matplotlib import cm\r\n",
        "import pylab"
      ],
      "execution_count": null,
      "outputs": []
    },
    {
      "cell_type": "markdown",
      "metadata": {
        "id": "2AdDy01FrRIB"
      },
      "source": [
        "# Generate the pandas dataframe"
      ]
    },
    {
      "cell_type": "code",
      "metadata": {
        "id": "F5aBhMe9rODY"
      },
      "source": [
        "def generate_data(file_list):\r\n",
        "  X = []\r\n",
        "  y = []\r\n",
        "  label = 0 # for hiv\r\n",
        "  for i in file_list:\r\n",
        "    filepath = '/content/drive/MyDrive/Colab Notebooks/dataFiles/DNA_Genome_Analysis_covid19/'+i+'.fasta'\r\n",
        "    records = list(SeqIO.parse(filepath , 'fasta'))\r\n",
        "\r\n",
        "    for index in range(len(records)):\r\n",
        "      X.append(str(records[index].seq))\r\n",
        "      y.append(label)\r\n",
        "    label = 1 #for covid19\r\n",
        "  \r\n",
        "  data = pd.DataFrame({'DNASequence' : X , 'label' : y})\r\n",
        "\r\n",
        "  return data"
      ],
      "execution_count": 142,
      "outputs": []
    },
    {
      "cell_type": "code",
      "metadata": {
        "colab": {
          "base_uri": "https://localhost:8080/",
          "height": 204
        },
        "id": "dZ1Mw29nrVa4",
        "outputId": "67e6b9a6-5bfc-4803-dcac-f2400a602f3b"
      },
      "source": [
        "file_list = ['Negative' , 'Covid19']\r\n",
        "data = generate_data(file_list)\r\n",
        "data.head(5)"
      ],
      "execution_count": 143,
      "outputs": [
        {
          "output_type": "execute_result",
          "data": {
            "text/html": [
              "<div>\n",
              "<style scoped>\n",
              "    .dataframe tbody tr th:only-of-type {\n",
              "        vertical-align: middle;\n",
              "    }\n",
              "\n",
              "    .dataframe tbody tr th {\n",
              "        vertical-align: top;\n",
              "    }\n",
              "\n",
              "    .dataframe thead th {\n",
              "        text-align: right;\n",
              "    }\n",
              "</style>\n",
              "<table border=\"1\" class=\"dataframe\">\n",
              "  <thead>\n",
              "    <tr style=\"text-align: right;\">\n",
              "      <th></th>\n",
              "      <th>DNASequence</th>\n",
              "      <th>label</th>\n",
              "    </tr>\n",
              "  </thead>\n",
              "  <tbody>\n",
              "    <tr>\n",
              "      <th>0</th>\n",
              "      <td>CCTCAAATCACTCTTTGGCAGCGACCCCTTGTCTCAATAAAAATAG...</td>\n",
              "      <td>0</td>\n",
              "    </tr>\n",
              "    <tr>\n",
              "      <th>1</th>\n",
              "      <td>CCTCAAATCACTCTTTGGCAACGACCCCTGGTCCCAATAAAAATAG...</td>\n",
              "      <td>0</td>\n",
              "    </tr>\n",
              "    <tr>\n",
              "      <th>2</th>\n",
              "      <td>CCTCAGATCACTCTTTGGCAGCGACCCCTTGTCTCAATAAAAATAG...</td>\n",
              "      <td>0</td>\n",
              "    </tr>\n",
              "    <tr>\n",
              "      <th>3</th>\n",
              "      <td>CCTCAGATCACTCTTTGGCAGCGACCCCTTGTCCCAATAAAAGTAG...</td>\n",
              "      <td>0</td>\n",
              "    </tr>\n",
              "    <tr>\n",
              "      <th>4</th>\n",
              "      <td>CCTCAAATCACTCTTTGGCAGCGACCCCTTGTCCCAATAAAAGTAG...</td>\n",
              "      <td>0</td>\n",
              "    </tr>\n",
              "  </tbody>\n",
              "</table>\n",
              "</div>"
            ],
            "text/plain": [
              "                                         DNASequence  label\n",
              "0  CCTCAAATCACTCTTTGGCAGCGACCCCTTGTCTCAATAAAAATAG...      0\n",
              "1  CCTCAAATCACTCTTTGGCAACGACCCCTGGTCCCAATAAAAATAG...      0\n",
              "2  CCTCAGATCACTCTTTGGCAGCGACCCCTTGTCTCAATAAAAATAG...      0\n",
              "3  CCTCAGATCACTCTTTGGCAGCGACCCCTTGTCCCAATAAAAGTAG...      0\n",
              "4  CCTCAAATCACTCTTTGGCAGCGACCCCTTGTCCCAATAAAAGTAG...      0"
            ]
          },
          "metadata": {
            "tags": []
          },
          "execution_count": 143
        }
      ]
    },
    {
      "cell_type": "code",
      "metadata": {
        "colab": {
          "base_uri": "https://localhost:8080/",
          "height": 282
        },
        "id": "NCDBxprMr1rs",
        "outputId": "49be0857-6f68-4133-b792-5245a9ddffa6"
      },
      "source": [
        "category = data['label'].value_counts()\r\n",
        "sns.barplot(x=category.index,y=category.values)"
      ],
      "execution_count": null,
      "outputs": [
        {
          "output_type": "execute_result",
          "data": {
            "text/plain": [
              "<matplotlib.axes._subplots.AxesSubplot at 0x7f69bc0fa650>"
            ]
          },
          "metadata": {
            "tags": []
          },
          "execution_count": 50
        },
        {
          "output_type": "display_data",
          "data": {
            "image/png": "[encoded data removed]",
            "text/plain": [
              "<Figure size 432x288 with 1 Axes>"
            ]
          },
          "metadata": {
            "tags": []
          }
        }
      ]
    },
    {
      "cell_type": "code",
      "metadata": {
        "id": "l6qcLNfNsAym"
      },
      "source": [
        "#healping functions\r\n",
        "#count the occurance of the kmers\r\n",
        "def kmer_count(data , k ):\r\n",
        "  d = defaultdict(int)\r\n",
        "\r\n",
        "  for i in range(len(data) - (k-1)):\r\n",
        "    d[data[i : i+k ]] += 1\r\n",
        "  for key in list(d):\r\n",
        "    if 'N' in key:\r\n",
        "      del d[key]\r\n",
        "  return d\r\n",
        "\r\n",
        "# find the each kmer propability\r\n",
        "def propability_kmer(kmer_count_dict , k , len_data):\r\n",
        "  N = len_data\r\n",
        "  total_len_kemrs = N-k+1\r\n",
        "  prop = defaultdict(float)\r\n",
        "  for key,value in kmer_count_dict.items():\r\n",
        "    prop[key] = float(value) / total_len_kemrs #n(A)/P(s)\r\n",
        "  return prop\r\n",
        "\r\n",
        "def Choas_Game_Representation(propability_kmer_dict , k):\r\n",
        "  array_size = int(math.sqrt(4**k))\r\n",
        "  #print(array_size)\r\n",
        "  choas = []\r\n",
        "  #intializing the array\r\n",
        "  for i in range(array_size):\r\n",
        "    choas.append([0] * array_size)\r\n",
        "  \r\n",
        "  #initializing the axis\r\n",
        "  maxX = array_size\r\n",
        "  maxY = array_size\r\n",
        "  posX = 1\r\n",
        "  posY = 1\r\n",
        "\r\n",
        "  for key,value in propability_kmer_dict.items():\r\n",
        "    #print(key)\r\n",
        "    for char in key:\r\n",
        "      if char == \"T\":\r\n",
        "                posX += maxX / 2\r\n",
        "      elif char == \"C\":\r\n",
        "                posY += maxY / 2\r\n",
        "      elif char == \"G\":\r\n",
        "                posX += maxX / 2\r\n",
        "                posY += maxY / 2\r\n",
        "      maxX /= 2\r\n",
        "      maxY /= 2\r\n",
        "    posX,posY = int(posX) ,int(posY)\r\n",
        "    choas[posY-1][posX-1] = value\r\n",
        "      #reinitializing to the starting value\r\n",
        "    maxX = array_size\r\n",
        "    maxY = array_size\r\n",
        "    posX = 1\r\n",
        "    posY = 1\r\n",
        "\r\n",
        "  return choas"
      ],
      "execution_count": null,
      "outputs": []
    },
    {
      "cell_type": "code",
      "metadata": {
        "id": "bcj93jTks1I3"
      },
      "source": [
        "def generate_image(data):\r\n",
        "  samples = len(data)\r\n",
        "  print('Conversion started..........')\r\n",
        "  for i in range(samples):\r\n",
        "    d = data.iloc[i,0]\r\n",
        "    \r\n",
        "    #fiind the frequency\r\n",
        "    kmer_count_dict_7 = kmer_count(d , 7)\r\n",
        "\r\n",
        "    #find the propability\r\n",
        "    propability_kmer_dict_7 = propability_kmer(kmer_count_dict_7 , 7 , samples)\r\n",
        "\r\n",
        "    choas_rep_matrix_7 = Choas_Game_Representation(propability_kmer_dict_7 , 7)\r\n",
        "\r\n",
        "    plt.tick_params(\r\n",
        "    axis='y',          # changes apply to the x-axis\r\n",
        "    which='both',      # both major and minor ticks are affected\r\n",
        "    left=False,      # ticks along the bottom edge are off\r\n",
        "    right=False,         # ticks along the top edge are off\r\n",
        "    labelleft=False)\r\n",
        "    plt.tick_params(\r\n",
        "    axis='x',          # changes apply to the x-axis\r\n",
        "    which='both',      # both major and minor ticks are affected\r\n",
        "    bottom=False,      # ticks along the bottom edge are off\r\n",
        "    top=False,         # ticks along the top edge are off\r\n",
        "    labelbottom=False)\r\n",
        "    #print(choas_rep_matrix_7)\r\n",
        "    plt.imshow(choas_rep_matrix_7 , interpolation='nearest' , cmap=cm.gray_r)\r\n",
        "    #pylab.imshow(choas_rep_matrix_7, interpolation='nearest', cmap=cm.gray_r)\r\n",
        "    d_class = int(data.iloc[i,1])\r\n",
        "    \r\n",
        "\r\n",
        "    if d_class == 1:\r\n",
        "      # save the image in negative tab\r\n",
        "      plt.savefig('/content/drive/MyDrive/Colab Notebooks/dataFiles/DNA_Genome_Analysis_covid19/generated_FCGR_Images/Covid19/sample'+str(i)+'.png' , bbox_inches = 'tight')\r\n",
        "    else:\r\n",
        "      plt.savefig('/content/drive/MyDrive/Colab Notebooks/dataFiles/DNA_Genome_Analysis_covid19/generated_FCGR_Images/Negative/sample'+str(i)+'.png' , bbox_inches = 'tight')\r\n",
        "    if i%100 == 0 :\r\n",
        "      print('complted',i ,'samples..........')\r\n",
        "  print('Converting Done!!!!!!!!!!!!!!!')"
      ],
      "execution_count": null,
      "outputs": []
    },
    {
      "cell_type": "code",
      "metadata": {
        "colab": {
          "background_save": true,
          "base_uri": "https://localhost:8080/"
        },
        "id": "0Fy0W_yTtNTq",
        "outputId": "5d6041b2-c1de-4aea-9ad2-842137056cab"
      },
      "source": [
        "generate_image(data)"
      ],
      "execution_count": null,
      "outputs": [
        {
          "output_type": "stream",
          "text": [
            "Conversion started..........\n",
            "complted 0 samples..........\n",
            "complted 100 samples..........\n",
            "complted 200 samples..........\n",
            "complted 300 samples..........\n",
            "complted 400 samples..........\n",
            "complted 500 samples..........\n",
            "complted 600 samples..........\n",
            "complted 700 samples..........\n",
            "complted 800 samples..........\n",
            "complted 900 samples..........\n",
            "complted 1000 samples..........\n",
            "complted 1100 samples..........\n",
            "complted 1200 samples..........\n",
            "complted 1300 samples..........\n",
            "complted 1400 samples..........\n",
            "complted 1500 samples..........\n",
            "Converting Done!!!!!!!!!!!!!!!\n"
          ],
          "name": "stdout"
        },
        {
          "output_type": "display_data",
          "data": {
            "image/png": "[encoded data removed]",
            "text/plain": [
              "<Figure size 432x288 with 1 Axes>"
            ]
          },
          "metadata": {
            "tags": []
          }
        }
      ]
    },
    {
      "cell_type": "markdown",
      "metadata": {
        "id": "4w3qfA0UCNLh"
      },
      "source": [
        "# Generate the dataframe , contaning the image array"
      ]
    },
    {
      "cell_type": "code",
      "metadata": {
        "id": "ygPPRHnxtSU-"
      },
      "source": [
        "def generate_dataframe(data):\r\n",
        "  samples = len(data)\r\n",
        "  FCGR = []\r\n",
        "  l = []\r\n",
        "  print('Conversion started..........')\r\n",
        "  for i in range(samples):\r\n",
        "    \r\n",
        "    d = data.iloc[i,0]\r\n",
        "    label = data.iloc[i,1]    \r\n",
        "    #fiind the frequency\r\n",
        "    kmer_count_dict_7 = kmer_count(d , 7)\r\n",
        "\r\n",
        "    #find the propability\r\n",
        "    propability_kmer_dict_7 = propability_kmer(kmer_count_dict_7 , 7 , samples)\r\n",
        "    #generate the frequency matrix\r\n",
        "    choas_rep_matrix_7 = Choas_Game_Representation(propability_kmer_dict_7 , 7)\r\n",
        "    #convert the list into array\r\n",
        "    #choas_rep_matrix_7 = np.array(choas_rep_matrix_7)\r\n",
        "    #flatten the array to store in the dataframe\r\n",
        "    FCGR.append(choas_rep_matrix_7)\r\n",
        "    l.append(label)\r\n",
        "    if i%100 == 0 :\r\n",
        "      print('complted',i ,'samples..........')\r\n",
        "  X = np.array(FCGR)\r\n",
        "  y = np.array(l)\r\n",
        "  #data = pd.DataFrame({'fcgr' : FCGR , 'label' : l}) #convert the array into dataframe\r\n",
        "  #data = pd.DataFrame([FCGR , l] , columns = ['fcgr' , 'label'])\r\n",
        "  print('Converting Done!!!!!!!!!!!!!!!')\r\n",
        "  return X , y"
      ],
      "execution_count": 152,
      "outputs": []
    },
    {
      "cell_type": "code",
      "metadata": {
        "colab": {
          "base_uri": "https://localhost:8080/"
        },
        "id": "plQQjx576OwI",
        "outputId": "6163bd88-400a-444d-fbd2-212e1c27a88d"
      },
      "source": [
        "X , y = generate_dataframe(data)"
      ],
      "execution_count": 153,
      "outputs": [
        {
          "output_type": "stream",
          "text": [
            "Conversion started..........\n",
            "complted 0 samples..........\n",
            "complted 100 samples..........\n",
            "complted 200 samples..........\n",
            "complted 300 samples..........\n",
            "complted 400 samples..........\n",
            "complted 500 samples..........\n",
            "complted 600 samples..........\n",
            "complted 700 samples..........\n",
            "complted 800 samples..........\n",
            "complted 900 samples..........\n",
            "complted 1000 samples..........\n",
            "complted 1100 samples..........\n",
            "complted 1200 samples..........\n",
            "complted 1300 samples..........\n",
            "complted 1400 samples..........\n",
            "complted 1500 samples..........\n",
            "Converting Done!!!!!!!!!!!!!!!\n"
          ],
          "name": "stdout"
        }
      ]
    },
    {
      "cell_type": "code",
      "metadata": {
        "id": "H3ACtDBvRxIa"
      },
      "source": [
        "#save the numpy file\r\n",
        "np.save('/content/drive/MyDrive/Colab Notebooks/dataFiles/DNA_Genome_Analysis_covid19/generated_FCGR_Images/dna_image_pixel_x',X,allow_pickle=True)\r\n",
        "np.save('/content/drive/MyDrive/Colab Notebooks/dataFiles/DNA_Genome_Analysis_covid19/generated_FCGR_Images/dna_image_pixcel_y',y,allow_pickle=True)"
      ],
      "execution_count": 154,
      "outputs": []
    },
    {
      "cell_type": "code",
      "metadata": {
        "colab": {
          "base_uri": "https://localhost:8080/"
        },
        "id": "tfDIfgYBSW39",
        "outputId": "d6ba4b25-f94b-4042-947a-7caa27a7da9c"
      },
      "source": [
        "X = np.load('/content/drive/MyDrive/Colab Notebooks/dataFiles/DNA_Genome_Analysis_covid19/generated_FCGR_Images/dna_image_pixel_x.npy')\r\n",
        "y = np.load('/content/drive/MyDrive/Colab Notebooks/dataFiles/DNA_Genome_Analysis_covid19/generated_FCGR_Images/dna_image_pixcel_y.npy')\r\n",
        "X = X.reshape((X.shape[0],1,128,128))\r\n",
        "X.shape"
      ],
      "execution_count": 158,
      "outputs": [
        {
          "output_type": "execute_result",
          "data": {
            "text/plain": [
              "(1557, 1, 128, 128)"
            ]
          },
          "metadata": {
            "tags": []
          },
          "execution_count": 158
        }
      ]
    },
    {
      "cell_type": "code",
      "metadata": {
        "colab": {
          "base_uri": "https://localhost:8080/",
          "height": 204
        },
        "id": "DvwZUCrX6UJy",
        "outputId": "19acc22d-998a-4c3a-8870-3d120dd1be46"
      },
      "source": [
        "#data_df.iloc[0,0].reshape((1,128,128))\r\n",
        "data_df.head()"
      ],
      "execution_count": null,
      "outputs": [
        {
          "output_type": "execute_result",
          "data": {
            "text/html": [
              "<div>\n",
              "<style scoped>\n",
              "    .dataframe tbody tr th:only-of-type {\n",
              "        vertical-align: middle;\n",
              "    }\n",
              "\n",
              "    .dataframe tbody tr th {\n",
              "        vertical-align: top;\n",
              "    }\n",
              "\n",
              "    .dataframe thead th {\n",
              "        text-align: right;\n",
              "    }\n",
              "</style>\n",
              "<table border=\"1\" class=\"dataframe\">\n",
              "  <thead>\n",
              "    <tr style=\"text-align: right;\">\n",
              "      <th></th>\n",
              "      <th>fcgr</th>\n",
              "      <th>label</th>\n",
              "    </tr>\n",
              "  </thead>\n",
              "  <tbody>\n",
              "    <tr>\n",
              "      <th>0</th>\n",
              "      <td>[0.0006447453255963894, 0.0019342359767891683,...</td>\n",
              "      <td>0</td>\n",
              "    </tr>\n",
              "    <tr>\n",
              "      <th>1</th>\n",
              "      <td>[0.0, 0.0006447453255963894, 0.001289490651192...</td>\n",
              "      <td>0</td>\n",
              "    </tr>\n",
              "    <tr>\n",
              "      <th>2</th>\n",
              "      <td>[0.0, 0.0006447453255963894, 0.000644745325596...</td>\n",
              "      <td>0</td>\n",
              "    </tr>\n",
              "    <tr>\n",
              "      <th>3</th>\n",
              "      <td>[0.0, 0.0, 0.0006447453255963894, 0.0006447453...</td>\n",
              "      <td>0</td>\n",
              "    </tr>\n",
              "    <tr>\n",
              "      <th>4</th>\n",
              "      <td>[0.0006447453255963894, 0.0006447453255963894,...</td>\n",
              "      <td>0</td>\n",
              "    </tr>\n",
              "  </tbody>\n",
              "</table>\n",
              "</div>"
            ],
            "text/plain": [
              "                                                fcgr  label\n",
              "0  [0.0006447453255963894, 0.0019342359767891683,...      0\n",
              "1  [0.0, 0.0006447453255963894, 0.001289490651192...      0\n",
              "2  [0.0, 0.0006447453255963894, 0.000644745325596...      0\n",
              "3  [0.0, 0.0, 0.0006447453255963894, 0.0006447453...      0\n",
              "4  [0.0006447453255963894, 0.0006447453255963894,...      0"
            ]
          },
          "metadata": {
            "tags": []
          },
          "execution_count": 134
        }
      ]
    },
    {
      "cell_type": "code",
      "metadata": {
        "colab": {
          "base_uri": "https://localhost:8080/"
        },
        "id": "_PDzwFIM-3Ai",
        "outputId": "01d68354-03d1-47a6-f09a-a12c574f00d2"
      },
      "source": [
        "data_df.shape"
      ],
      "execution_count": null,
      "outputs": [
        {
          "output_type": "execute_result",
          "data": {
            "text/plain": [
              "(1557, 2)"
            ]
          },
          "metadata": {
            "tags": []
          },
          "execution_count": 137
        }
      ]
    },
    {
      "cell_type": "markdown",
      "metadata": {
        "id": "6nhL49lhCv6G"
      },
      "source": [
        "# dataset description\r\n",
        "columns - 2 ---> fcgr , label <br>\r\n",
        "fcgr ---> containing samples fo the DNA in the 1D numpy array\r\n",
        "          shape -- > (16384,) (should be converted into (1,128,128) shapeded array.<br>\r\n",
        "\r\n",
        "label ---> 0 or 1 \r\n",
        "           1 ---> Covid positive\r\n",
        "           0 ---> covid negative "
      ]
    },
    {
      "cell_type": "code",
      "metadata": {
        "id": "Uxi1D6qBCqM-"
      },
      "source": [
        "#save the dataframe\r\n",
        "data_df.to_csv('/content/drive/MyDrive/Colab Notebooks/dataFiles/DNA_Genome_Analysis_covid19/generated_FCGR_Images/fcgr_image_128.csv')"
      ],
      "execution_count": null,
      "outputs": []
    },
    {
      "cell_type": "code",
      "metadata": {
        "id": "3vv3A1RZQMAb"
      },
      "source": [
        ""
      ],
      "execution_count": null,
      "outputs": []
    }
  ]
}