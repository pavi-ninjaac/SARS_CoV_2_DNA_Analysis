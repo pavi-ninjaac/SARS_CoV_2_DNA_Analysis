{
  "nbformat": 4,
  "nbformat_minor": 0,
  "metadata": {
    "colab": {
      "name": "DNA_Analysis_CovidvsHIV",
      "provenance": [],
      "toc_visible": true,
      "mount_file_id": "https://github.com/pavi-ninjaac/SARS_CoV_2_DNA_Analysis/blob/main/DNA_Analysis_CovidvsHIV.ipynb",
      "authorship_tag": "ABX9TyMI4HaOKV2AIJ24Bck/HzEk",
      "include_colab_link": true
    },
    "kernelspec": {
      "name": "python3",
      "display_name": "Python 3"
    }
  },
  "cells": [
    {
      "cell_type": "markdown",
      "metadata": {
        "id": "view-in-github",
        "colab_type": "text"
      },
      "source": [
        "<a href=\"https://colab.research.google.com/github/pavi-ninjaac/SARS_CoV_2_DNA_Analysis/blob/main/DNA_Analysis_CovidvsHIV.ipynb\" target=\"_parent\"><img src=\"https://colab.research.google.com/assets/colab-badge.svg\" alt=\"Open In Colab\"/></a>"
      ]
    },
    {
      "cell_type": "markdown",
      "metadata": {
        "id": "V3v_7SIKHd7c"
      },
      "source": [
        "# Covid19 Detection using CGR(Choas Game Representation)"
      ]
    },
    {
      "cell_type": "code",
      "metadata": {
        "colab": {
          "base_uri": "https://localhost:8080/"
        },
        "id": "Xb_3tc3gH8p5",
        "outputId": "1c33b5e2-5328-4404-a50e-565a0f55b310"
      },
      "source": [
        "! pip install Bio"
      ],
      "execution_count": 1,
      "outputs": [
        {
          "output_type": "stream",
          "text": [
            "Collecting Bio\n",
            "\u001b[?25l  Downloading https://files.pythonhosted.org/packages/85/84/13d3aa585fcaa010577cfdc40f3211933fa4468e98f8e63576066b2a7ad1/bio-0.4.1-py3-none-any.whl (73kB)\n",
            "\r\u001b[K     |████▌                           | 10kB 13.5MB/s eta 0:00:01\r\u001b[K     |█████████                       | 20kB 19.3MB/s eta 0:00:01\r\u001b[K     |█████████████▍                  | 30kB 11.9MB/s eta 0:00:01\r\u001b[K     |█████████████████▉              | 40kB 9.4MB/s eta 0:00:01\r\u001b[K     |██████████████████████▎         | 51kB 6.9MB/s eta 0:00:01\r\u001b[K     |██████████████████████████▊     | 61kB 7.0MB/s eta 0:00:01\r\u001b[K     |███████████████████████████████▏| 71kB 7.6MB/s eta 0:00:01\r\u001b[K     |████████████████████████████████| 81kB 4.6MB/s \n",
            "\u001b[?25hRequirement already satisfied: requests in /usr/local/lib/python3.7/dist-packages (from Bio) (2.23.0)\n",
            "Collecting biopython>=1.78\n",
            "\u001b[?25l  Downloading https://files.pythonhosted.org/packages/3a/cd/0098eaff841850c01da928c7f509b72fd3e1f51d77b772e24de9e2312471/biopython-1.78-cp37-cp37m-manylinux1_x86_64.whl (2.3MB)\n",
            "\u001b[K     |████████████████████████████████| 2.3MB 10.0MB/s \n",
            "\u001b[?25hRequirement already satisfied: numpy<1.20 in /usr/local/lib/python3.7/dist-packages (from Bio) (1.19.5)\n",
            "Requirement already satisfied: urllib3!=1.25.0,!=1.25.1,<1.26,>=1.21.1 in /usr/local/lib/python3.7/dist-packages (from requests->Bio) (1.24.3)\n",
            "Requirement already satisfied: chardet<4,>=3.0.2 in /usr/local/lib/python3.7/dist-packages (from requests->Bio) (3.0.4)\n",
            "Requirement already satisfied: idna<3,>=2.5 in /usr/local/lib/python3.7/dist-packages (from requests->Bio) (2.10)\n",
            "Requirement already satisfied: certifi>=2017.4.17 in /usr/local/lib/python3.7/dist-packages (from requests->Bio) (2020.12.5)\n",
            "Installing collected packages: biopython, Bio\n",
            "Successfully installed Bio-0.4.1 biopython-1.78\n"
          ],
          "name": "stdout"
        }
      ]
    },
    {
      "cell_type": "code",
      "metadata": {
        "id": "7TotgLPFHEtL"
      },
      "source": [
        "#import libraries\n",
        "import pandas as pd\n",
        "import numpy as np\n",
        "import matplotlib.pyplot as plt\n",
        "import seaborn as sns\n",
        "\n",
        "#for fasta file handling \n",
        "from Bio import SeqIO\n",
        "from sklearn.feature_extraction.text import CountVectorizer\n",
        "from sklearn.model_selection import train_test_split\n",
        "from sklearn.naive_bayes import MultinomialNB\n",
        "from sklearn.metrics import accuracy_score, f1_score, precision_score, recall_score"
      ],
      "execution_count": 2,
      "outputs": []
    },
    {
      "cell_type": "code",
      "metadata": {
        "id": "LYphXAFGERoH",
        "outputId": "06054d47-e458-437a-c910-484f64e87004",
        "colab": {
          "base_uri": "https://localhost:8080/",
          "height": 35
        }
      },
      "source": [
        "import sklearn\n",
        "sklearn.__version__"
      ],
      "execution_count": 35,
      "outputs": [
        {
          "output_type": "execute_result",
          "data": {
            "application/vnd.google.colaboratory.intrinsic+json": {
              "type": "string"
            },
            "text/plain": [
              "'0.22.2.post1'"
            ]
          },
          "metadata": {
            "tags": []
          },
          "execution_count": 35
        }
      ]
    },
    {
      "cell_type": "code",
      "metadata": {
        "id": "TBScLIoOH4lA"
      },
      "source": [
        "def generate_data(file_list):\n",
        "  X = []\n",
        "  y = []\n",
        "  label = 1 # for hiv\n",
        "  for i in file_list:\n",
        "    filepath = '/content/drive/MyDrive/Colab Notebooks/dataFiles/DNA_Genome_Analysis_covid19/'+i+'.fasta'\n",
        "    records = list(SeqIO.parse(filepath , 'fasta'))\n",
        "\n",
        "    for index in range(len(records)):\n",
        "      X.append(str(records[index].seq))\n",
        "      y.append(label)\n",
        "    label = 0 #for covid19\n",
        "  \n",
        "  data = pd.DataFrame({'DNASequence' : X , 'label' : y})\n",
        "\n",
        "  return data"
      ],
      "execution_count": 37,
      "outputs": []
    },
    {
      "cell_type": "code",
      "metadata": {
        "colab": {
          "base_uri": "https://localhost:8080/",
          "height": 191
        },
        "id": "TZO4_1yPMmuc",
        "outputId": "fc14076d-ad45-4f28-a618-732378c499e1"
      },
      "source": [
        "file_list = ['Negative' , 'Covid19']\n",
        "data = generate_data(file_list)\n",
        "data.head(5)"
      ],
      "execution_count": 38,
      "outputs": [
        {
          "output_type": "execute_result",
          "data": {
            "text/html": [
              "<div>\n",
              "<style scoped>\n",
              "    .dataframe tbody tr th:only-of-type {\n",
              "        vertical-align: middle;\n",
              "    }\n",
              "\n",
              "    .dataframe tbody tr th {\n",
              "        vertical-align: top;\n",
              "    }\n",
              "\n",
              "    .dataframe thead th {\n",
              "        text-align: right;\n",
              "    }\n",
              "</style>\n",
              "<table border=\"1\" class=\"dataframe\">\n",
              "  <thead>\n",
              "    <tr style=\"text-align: right;\">\n",
              "      <th></th>\n",
              "      <th>DNASequence</th>\n",
              "      <th>label</th>\n",
              "    </tr>\n",
              "  </thead>\n",
              "  <tbody>\n",
              "    <tr>\n",
              "      <th>0</th>\n",
              "      <td>CCTCAAATCACTCTTTGGCAGCGACCCCTTGTCTCAATAAAAATAG...</td>\n",
              "      <td>1</td>\n",
              "    </tr>\n",
              "    <tr>\n",
              "      <th>1</th>\n",
              "      <td>CCTCAAATCACTCTTTGGCAACGACCCCTGGTCCCAATAAAAATAG...</td>\n",
              "      <td>1</td>\n",
              "    </tr>\n",
              "    <tr>\n",
              "      <th>2</th>\n",
              "      <td>CCTCAGATCACTCTTTGGCAGCGACCCCTTGTCTCAATAAAAATAG...</td>\n",
              "      <td>1</td>\n",
              "    </tr>\n",
              "    <tr>\n",
              "      <th>3</th>\n",
              "      <td>CCTCAGATCACTCTTTGGCAGCGACCCCTTGTCCCAATAAAAGTAG...</td>\n",
              "      <td>1</td>\n",
              "    </tr>\n",
              "    <tr>\n",
              "      <th>4</th>\n",
              "      <td>CCTCAAATCACTCTTTGGCAGCGACCCCTTGTCCCAATAAAAGTAG...</td>\n",
              "      <td>1</td>\n",
              "    </tr>\n",
              "  </tbody>\n",
              "</table>\n",
              "</div>"
            ],
            "text/plain": [
              "                                         DNASequence  label\n",
              "0  CCTCAAATCACTCTTTGGCAGCGACCCCTTGTCTCAATAAAAATAG...      1\n",
              "1  CCTCAAATCACTCTTTGGCAACGACCCCTGGTCCCAATAAAAATAG...      1\n",
              "2  CCTCAGATCACTCTTTGGCAGCGACCCCTTGTCTCAATAAAAATAG...      1\n",
              "3  CCTCAGATCACTCTTTGGCAGCGACCCCTTGTCCCAATAAAAGTAG...      1\n",
              "4  CCTCAAATCACTCTTTGGCAGCGACCCCTTGTCCCAATAAAAGTAG...      1"
            ]
          },
          "metadata": {
            "tags": []
          },
          "execution_count": 38
        }
      ]
    },
    {
      "cell_type": "code",
      "metadata": {
        "id": "sC5EG9g3Mt4T",
        "outputId": "90501190-9431-4907-eede-a3f02d9769fe",
        "colab": {
          "base_uri": "https://localhost:8080/"
        }
      },
      "source": [
        "d = data.iloc[0,:]\n",
        "print(d)"
      ],
      "execution_count": 40,
      "outputs": [
        {
          "output_type": "stream",
          "text": [
            "DNASequence    CCTCAAATCACTCTTTGGCAGCGACCCCTTGTCTCAATAAAAATAG...\n",
            "label                                                          1\n",
            "Name: 0, dtype: object\n"
          ],
          "name": "stdout"
        }
      ]
    },
    {
      "cell_type": "markdown",
      "metadata": {
        "id": "9vBEt2BPNmVA"
      },
      "source": [
        "# Category analysis"
      ]
    },
    {
      "cell_type": "code",
      "metadata": {
        "colab": {
          "base_uri": "https://localhost:8080/",
          "height": 281
        },
        "id": "JmF0v7fgNlw-",
        "outputId": "b7873856-35ae-40fb-b044-31f47d9b3b3c"
      },
      "source": [
        "category = data['label'].value_counts()\n",
        "sns.barplot(x=category.index,y=category.values)"
      ],
      "execution_count": 5,
      "outputs": [
        {
          "output_type": "execute_result",
          "data": {
            "text/plain": [
              "<matplotlib.axes._subplots.AxesSubplot at 0x7fd607862410>"
            ]
          },
          "metadata": {
            "tags": []
          },
          "execution_count": 5
        },
        {
          "output_type": "display_data",
          "data": {
            "image/png": "[encoded data removed]",
            "text/plain": [
              "<Figure size 432x288 with 1 Axes>"
            ]
          },
          "metadata": {
            "tags": [],
            "needs_background": "light"
          }
        }
      ]
    },
    {
      "cell_type": "code",
      "metadata": {
        "id": "-2AhexRYNWvv",
        "colab": {
          "base_uri": "https://localhost:8080/",
          "height": 191
        },
        "outputId": "d7d9b853-ce45-4376-dc02-80e5efe3b99f"
      },
      "source": [
        "#convert the squenceof strings to k-mers \n",
        "def kmer(sequence , size = 7):\n",
        "  return [sequence[i:i+size].lower() for i in range(len(sequence) - size+1 )]\n",
        "\n",
        "data['words'] = data.apply(lambda x : kmer(x['DNASequence']) , axis = 1)\n",
        "data = data.drop('DNASequence' , axis = 1)\n",
        "data.head()"
      ],
      "execution_count": 6,
      "outputs": [
        {
          "output_type": "execute_result",
          "data": {
            "text/html": [
              "<div>\n",
              "<style scoped>\n",
              "    .dataframe tbody tr th:only-of-type {\n",
              "        vertical-align: middle;\n",
              "    }\n",
              "\n",
              "    .dataframe tbody tr th {\n",
              "        vertical-align: top;\n",
              "    }\n",
              "\n",
              "    .dataframe thead th {\n",
              "        text-align: right;\n",
              "    }\n",
              "</style>\n",
              "<table border=\"1\" class=\"dataframe\">\n",
              "  <thead>\n",
              "    <tr style=\"text-align: right;\">\n",
              "      <th></th>\n",
              "      <th>label</th>\n",
              "      <th>words</th>\n",
              "    </tr>\n",
              "  </thead>\n",
              "  <tbody>\n",
              "    <tr>\n",
              "      <th>0</th>\n",
              "      <td>1</td>\n",
              "      <td>[cctcaaa, ctcaaat, tcaaatc, caaatca, aaatcac, ...</td>\n",
              "    </tr>\n",
              "    <tr>\n",
              "      <th>1</th>\n",
              "      <td>1</td>\n",
              "      <td>[cctcaaa, ctcaaat, tcaaatc, caaatca, aaatcac, ...</td>\n",
              "    </tr>\n",
              "    <tr>\n",
              "      <th>2</th>\n",
              "      <td>1</td>\n",
              "      <td>[cctcaga, ctcagat, tcagatc, cagatca, agatcac, ...</td>\n",
              "    </tr>\n",
              "    <tr>\n",
              "      <th>3</th>\n",
              "      <td>1</td>\n",
              "      <td>[cctcaga, ctcagat, tcagatc, cagatca, agatcac, ...</td>\n",
              "    </tr>\n",
              "    <tr>\n",
              "      <th>4</th>\n",
              "      <td>1</td>\n",
              "      <td>[cctcaaa, ctcaaat, tcaaatc, caaatca, aaatcac, ...</td>\n",
              "    </tr>\n",
              "  </tbody>\n",
              "</table>\n",
              "</div>"
            ],
            "text/plain": [
              "   label                                              words\n",
              "0      1  [cctcaaa, ctcaaat, tcaaatc, caaatca, aaatcac, ...\n",
              "1      1  [cctcaaa, ctcaaat, tcaaatc, caaatca, aaatcac, ...\n",
              "2      1  [cctcaga, ctcagat, tcagatc, cagatca, agatcac, ...\n",
              "3      1  [cctcaga, ctcagat, tcagatc, cagatca, agatcac, ...\n",
              "4      1  [cctcaaa, ctcaaat, tcaaatc, caaatca, aaatcac, ..."
            ]
          },
          "metadata": {
            "tags": []
          },
          "execution_count": 6
        }
      ]
    },
    {
      "cell_type": "code",
      "metadata": {
        "colab": {
          "base_uri": "https://localhost:8080/"
        },
        "id": "7USAPKGP91D4",
        "outputId": "d67ca68e-e1c4-4156-bb02-addfe2e49deb"
      },
      "source": [
        "#join into  one sentence\n",
        "data_x = data['words']\n",
        "for i in range(len(data_x)):\n",
        "  data_x[i] = ' '.join(data_x[i])\n",
        "y = np.array(data['label'])\n"
      ],
      "execution_count": 7,
      "outputs": [
        {
          "output_type": "stream",
          "text": [
            "/usr/local/lib/python3.7/dist-packages/ipykernel_launcher.py:4: SettingWithCopyWarning: \n",
            "A value is trying to be set on a copy of a slice from a DataFrame\n",
            "\n",
            "See the caveats in the documentation: https://pandas.pydata.org/pandas-docs/stable/user_guide/indexing.html#returning-a-view-versus-a-copy\n",
            "  after removing the cwd from sys.path.\n"
          ],
          "name": "stderr"
        }
      ]
    },
    {
      "cell_type": "code",
      "metadata": {
        "colab": {
          "base_uri": "https://localhost:8080/",
          "height": 132
        },
        "id": "mPwa5_YS_400",
        "outputId": "68aa9777-fb45-46b5-95f3-beda4c56ad45"
      },
      "source": [
        "data_x[0]"
      ],
      "execution_count": 8,
      "outputs": [
        {
          "output_type": "execute_result",
          "data": {
            "application/vnd.google.colaboratory.intrinsic+json": {
              "type": "string"
            },
            "text/plain": [
              "'cctcaaa ctcaaat tcaaatc caaatca aaatcac aatcact atcactc tcactct cactctt actcttt ctctttg tctttgg ctttggc tttggca ttggcag tggcagc ggcagcg gcagcga cagcgac agcgacc gcgaccc cgacccc gacccct acccctt ccccttg cccttgt ccttgtc cttgtct ttgtctc tgtctca gtctcaa tctcaat ctcaata tcaataa caataaa aataaaa ataaaaa taaaaat aaaaata aaaatag aaatagg aatagga ataggag taggagr aggagrc ggagrcc gagrcca agrccar grccara rccaray ccaraya carayaa arayaar rayaara ayaarag yaaraga aaragag aragagg ragaggc agaggct gaggctc aggctct ggctcta gctctat ctctatt tctatta ctattag tattaga attagac ttagaca tagacac agacaca gacacag acacagg cacagga acaggag caggagc aggagca ggagcag gagcaga agcagat gcagatg cagatga agatgat gatgata atgatac tgataca gatacag atacagt tacagta acagtat cagtatt agtatta gtattag tattaga attagaa ttagaag tagaaga agaagaa gaagaaa aagaaat agaaata gaaataa aaataaa aataaat ataaatt taaattt aaatttg aatttgc atttgcc tttgcca ttgccag tgccagg gccagga ccaggaa caggaaa aggaaaa ggaaaat gaaaatg aaaatgg aaatgga aatggaa atggaaa tggaaac ggaaacc gaaacca aaaccaa aaccaaa accaaaa ccaaaaa caaaaat aaaaatg aaaatga aaatgat aatgata atgatag tgatagg gatagga ataggag taggagg aggagga ggaggaa gaggaat aggaatt ggaattg gaattgg aattgga attggag ttggagg tggaggt ggaggtt gaggttt aggtttt ggtttta gttttat ttttatc tttatca ttatcaa tatcaaa atcaaag tcaaagt caaagta aaagtaa aagtaag agtaaga gtaagac taagaca aagacaa agacaat gacaata acaatat caatatg aatatga atatgat tatgatc atgatca tgatcaa gatcaar atcaart tcaarta caartaa aartaac artaact rtaacta taactat aactatr actatrg ctatrga tatrgaa atrgaaa trgaaat rgaaatt gaaattt aaatttg aatttgt atttgtg tttgtgg ttgtgga tgtggaa gtggaaa tggaaaa ggaaaaa gaaaaaa aaaaaag aaaaagg aaaaggc aaaggct aaggcta aggctat ggctata gctatag ctatagg tataggt ataggta taggtac aggtaca ggtacag gtacagt tacagta acagtat cagtatt agtattr gtattrg tattrgt attrgtg ttrgtgg trgtggg rgtggga gtgggac tgggacc gggaccc ggaccca gacccac acccaca cccacac ccacacc cacacct acacctg cacctgt acctgtc cctgtca ctgtcaa tgtcaac gtcaaca tcaacat caacata aacataa acataat cataatt ataattg taattgg aattgga attggaa ttggaag tggaaga ggaagaa gaagaaa aagaaat agaaata gaaatat aaatatg aatatgt atatgtt tatgttg atgttga tgttgac gttgact ttgactc tgactca gactcag actcagc ctcagct tcagctt cagcttg agcttgg gcttgga cttggat ttggatg tggatgc ggatgca gatgcac atgcaca tgcacac gcacact cacacta acactaa cactaaa actaaat ctaaatt taaattt aaatttt aattttc attttcc ttttcca tttccaa ttccaat tccaatt ccaatta caattag aattagt attagtc ttagtcc tagtccc agtccca gtcccat tcccatt cccattr ccattra cattrat attrata ttratac tratact ratactg atactgt tactgta actgtac ctgtacc tgtacca gtaccag taccagt accagta ccagtaa cagtaaa agtaaaa gtaaaat taaaatt aaaatta aaattaa aattaaa attaaag ttaaagc taaagcc aaagcca aagccag agccagg gccagga ccaggaa caggaat aggaatg ggaatgg gaatgga aatggac atggacg tggacgg ggacggc gacggcc acggccc cggccca ggcccaa gcccaaa cccaaag ccaaagg caaaggt aaaggtt aaggtta aggttaa ggttaaa gttaaac ttaaaca taaacaa aaacaat aacaatg acaatgg caatggc aatggcc atggcca tggccac ggccact gccacta ccactaa cactaac actaaca ctaacag taacaga aacagaa acagaag cagaaga agaagaa gaagaaa aagaaaa agaaaaa gaaaaaa aaaaaat aaaaata aaaataa aaataaa aataaaa ataaaag taaaagc aaaagca aaagcat aagcatt agcatta gcattaa cattaac attaaca ttaacag taacagm aacagma acagmaa cagmaat agmaatt gmaattt maatttg aatttgt atttgtg tttgtga ttgtgat tgtgatg gtgatga tgatgaa gatgaaa atgaaat tgaaatg gaaatgg aaatgga aatggaa atggaaa tggaaaa ggaaaag gaaaagg aaaagga aaaggaa aaggaag aggaagg ggaagga gaaggaa aaggaaa aggaaaa ggaaaaa gaaaaat aaaaatt aaaatta aaattac aattaca attacaa ttacaaa tacaaaa acaaaaa caaaaat aaaaatt aaaattg aaattgg aattggg attgggc ttgggcc tgggcct gggcctg ggcctga gcctgaa cctgaaa ctgaaaa tgaaaat gaaaatc aaaatcc aaatcca aatccat atccata tccatat ccatata catataa atataac tataaca ataacac taacacc aacaccc acacccc cacccca accccaa ccccaat cccaata ccaatat caatatt aatattt atatttg tatttgc atttgcc tttgcca ttgccat tgccata gccataa ccataaa cataaag ataaaga taaagar aaagara aagaraa agaraaa garaaag araaagg raaagga aaaggac aaggaca aggacag ggacagt gacagta acagtac cagtact agtacta gtactaa tactaaa actaaat ctaaatg taaatgg aaatgga aatggag atggaga tggagaa ggagaaa gagaaaa agaaaat gaaaatt aaaatta aaattag aattagt attagta ttagtag tagtaga agtagat gtagatt tagattt agatttc gatttca atttcag tttcagr ttcagrg tcagrga cagrgaa agrgaac grgaact rgaactt gaactta aacttaa acttaat cttaata ttaataa taataaa aataaaa ataaaag taaaaga aaaagaa aaagaac aagaact agaactc gaactca aactcaa actcaag ctcaaga tcaagat caagatt aagattt agatttt gattttt atttttc tttttcg ttttcgg tttcgga ttcggaa tcggaar cggaart ggaartc gaartcc aartcca artccaa rtccaat tccaatt ccaatta caattag aattagg attagga ttaggaa taggaat aggaata ggaatac gaatacc aatacca ataccac taccaca accacac ccacacc cacaccc acaccca cacccag acccagc cccagca ccagcag cagcagg agcaggg gcagggt cagggtt agggtta gggttaa ggttaag gttaagm ttaagma taagmaa aagmaag agmaaga gmaagaa maagaaa aagaaaa agaaaaa gaaaaaa aaaaaat aaaaatc aaaatca aaatcaa aatcaat atcaatg tcaatga caatgac aatgaca atgacag tgacagt gacagta acagtac cagtact agtacta gtactag tactaga actagat ctagatg tagatgt agatgtg gatgtgg atgtggg tgtgggg gtggggg tggggga gggggat ggggatg gggatgc ggatgca gatgcat atgcata tgcatat gcatatt catattt atatttt tattttt atttttc tttttca ttttcag tttcagt ttcagtt tcagttc cagttcc agttcct gttcctt ttccttt tccttta cctttag ctttaga tttagat ttagatr tagatra agatraa gatraag atraaga traagac raagact aagactt agacttc gacttca acttcag cttcaga ttcagaa tcagaaa cagaaar agaaart gaaarta aaartat aartata artatac rtatact tatactg atactgc tactgca actgcat ctgcatt tgcattc gcattca cattcac attcacc ttcacca tcaccat caccata accatac ccatacc catacct ataccta tacctag acctagt cctagta ctagtat tagtata agtataa gtataaa tataaat ataaata taaataa aaataat aataatg ataatga taatgaa aatgaaa atgaaac tgaaaca gaaacac aaacacc aacacca acaccag caccagg accaggg ccaggga cagggat agggatt gggatta ggattag gattaga attagat ttagata tagatat agatatc gatatca atatcaa tatcaat atcaata tcaatat caatata aatataa atataat tataatg ataatgt taatgtg aatgtgc atgtgct tgtgctt gtgcttc tgcttcc gcttcca cttccac ttccaca tccacag ccacagg cacaggg acaggga cagggat agggatg gggatgg ggatgga gatggaa atggaaa tggaaag ggaaagg gaaagga aaaggat aaggatc aggatca ggatcac gatcacc atcacca tcaccag caccagc accagca ccagcaa cagcaat agcaata gcaatat caatatt aatattc atattcc tattcca attccaa ttccaac tccaaca ccaacat caacata aacatag acatagc catagca atagcat tagcatg agcatga gcatgac catgaca atgacaa tgacaaa gacaaaa acaaaaa caaaaat aaaaatt aaaattt aaatttt aatttta attttag ttttaga tttagag ttagagc tagagcc agagcct gagcctt agccttt gcctttt cctttta cttttag ttttagg tttaggg ttagggc tagggca agggcaa gggcaaa ggcaaaa gcaaaaa caaaaaa aaaaaat aaaaatc aaaatcc aaatcca aatccag atccaga tccagaa ccagaaa cagaaat agaaata gaaatag aaatagt aatagtc atagtca tagtcat agtcatc gtcatct tcatcta catctat atctatc tctatca ctatcag tatcagt atcagta tcagtat cagtatr agtatrt gtatrtr tatrtrg atrtrga trtrgat rtrgatg trgatga rgatgac gatgact atgactt tgacttg gacttgt acttgta cttgtat ttgtatg tgtatgt gtatgta tatgtag atgtagc tgtagca gtagcat tagcatc agcatca gcatcag catcaga atcagac tcagact cagactt agactta gacttag acttaga cttagag ttagaga tagagat agagata gagatag agatagg gataggg atagggc tagggca agggcaa gggcaac ggcaaca gcaacat caacata aacatag acataga catagag atagagc tagagca agagcaa gagcaaa agcaaaa gcaaaaa caaaaat aaaaata aaaatag aaataga aatagaa atagaag tagaaga agaagaa gaagaat aagaatt agaatta gaattaa aattaag attaaga ttaagag taagaga aagagaa agagaac gagaaca agaacat gaacatc aacatct acatctg catctgt atctgtt tctgtta ctgttaa tgttaag gttaagg ttaaggt taaggtg aaggtgg aggtggg ggtgggg gtgggga tggggay ggggayt gggaytt ggaytta gayttac ayttacc yttacca ttaccac taccaca accacac ccacacc cacaccg acaccgg caccgga accggac ccggaca cggacaa ggacaaa gacaaaa acaaaaa caaaaaa aaaaaac aaaaaca aaaacat aaacatc aacatca acatcag catcaga atcagaa tcagaaa cagaaag agaaaga gaaagaa aaagaac aagaacc agaaccc gaacccc aaccccc accccca cccccay ccccayt cccaytt ccayttc cayttct ayttctt yttcttt ttctttg tctttgg ctttgga tttggat ttggatg tggatgg ggatggg gatggga atgggat tgggata gggatat ggatatg gatatga atatgaa tatgaac atgaact tgaactc gaactcc aactcca actccat ctccatc tccatcc ccatcct catcctg atcctga tcctgac cctgaca ctgacaa tgacaaa gacaaat acaaatg caaatgg aaatgga aatggac atggaca tggacag ggacagt gacagtg acagtgc cagtgca agtgcag gtgcagc tgcagcc gcagcct cagccta agcctat gcctata cctatac ctataca tatacag atacagc tacagct acagcta cagctac agctacc gctacca ctaccag taccaga accagaa ccagaaa cagaaaa agaaaag gaaaagg aaaagga aaaggat aaggata aggatag ggatagc gatagct atagctg tagctgg agctgga gctggac ctggact tggactg ggactgt gactgtc actgtca ctgtcaa tgtcaat gtcaatg tcaatga caatgat aatgata atgatat tgatata gatatac atataca tatacag atacaga tacagaa acagaag cagaagt agaagtt gaagtta aagttag agttagt gttagtg ttagtgg tagtggg agtggga gtgggaa tgggaaa gggaaaa ggaaaat gaaaatt aaaatta aaattaa aattaaa attaaac ttaaact taaactg aaactgg aactggg actgggc ctgggca tgggcaa gggcaag ggcaagt gcaagtc caagtca aagtcag agtcaga gtcagat tcagatt cagattt agattta gatttac atttacc tttaccc ttaccca tacccag acccagg cccaggg ccaggga cagggat agggatt gggatta ggattaa gattaaa attaaag ttaaagt taaagta aaagtaa aagtaaa agtaaag gtaaagc taaagca aaagcaa aagcaac agcaact gcaactt caacttt aactttg actttgc ctttgca tttgcag ttgcaga tgcagac gcagact cagactc agactcc gactcct actcctt ctcctta tccttag ccttagg cttaggg ttagggg taggggg agggggg ggggggc gggggcc ggggcca gggccaa ggccaaa gccaaak ccaaakc caaakca aaakcat aakcatt akcatta kcattaa cattaac attaaca ttaacag taacaga aacagaa acagaag cagaagt agaagta gaagtag aagtagt agtagta gtagtac tagtacc agtacca gtaccac taccact accactg ccactga cactgac actgact ctgacta tgactac gactaca actacag ctacaga tacagag acagagg cagaggc agaggca gaggcag aggcaga ggcagaa gcagaat cagaatt agaatta gaattag aattaga attagaa ttagaat tagaatt agaattg gaattgg aattggc attggca ttggcag tggcaga ggcagag gcagaga cagagaa agagaac gagaaca agaacag gaacaga aacagag acagaga cagagaa agagaaa gagaaat agaaatt gaaattc aaattct aattcta attctaa ttctaaa tctaaaa ctaaaag taaaaga aaaagaa aaagaaa aagaaac agaaaca gaaacag aaacagt aacagta acagtac cagtaca agtacat gtacatg tacatgg acatgga catggag atggagc tggagca ggagcat gagcata agcatat gcatatt catatta atattat tattatg attatga ttatgac tatgacc atgaccc tgaccca gacccag acccagc cccagca ccagcaa cagcaaa agcaaaa gcaaaag caaaaga aaaagat aaagatt aagattt agatttg gatttga atttgat tttgata ttgatag tgatagc gatagct atagctg tagctga agctgaa gctgaaa ctgaaat tgaaata gaaatac aaataca aatacag atacaga tacagaa acagaaa cagaaac'"
            ]
          },
          "metadata": {
            "tags": []
          },
          "execution_count": 8
        }
      ]
    },
    {
      "cell_type": "code",
      "metadata": {
        "id": "pFAOie0w_8dA"
      },
      "source": [
        "# convert into count vectorizer features\n",
        "cv = CountVectorizer( ngram_range = (1,1))\n",
        "X = cv.fit_transform(data_x).toarray()"
      ],
      "execution_count": 9,
      "outputs": []
    },
    {
      "cell_type": "code",
      "metadata": {
        "colab": {
          "base_uri": "https://localhost:8080/"
        },
        "id": "PU239AOAAnCM",
        "outputId": "c7c319ee-27ee-491c-80a9-242fefec2ca0"
      },
      "source": [
        "X.shape"
      ],
      "execution_count": 10,
      "outputs": [
        {
          "output_type": "execute_result",
          "data": {
            "text/plain": [
              "(1557, 28137)"
            ]
          },
          "metadata": {
            "tags": []
          },
          "execution_count": 10
        }
      ]
    },
    {
      "cell_type": "code",
      "metadata": {
        "id": "30EAkZaiobdG",
        "colab": {
          "base_uri": "https://localhost:8080/",
          "height": 238
        },
        "outputId": "9537f5e0-be66-457f-e531-265243d4950f"
      },
      "source": [
        "X_df = pd.DataFrame(X, columns= cv.get_feature_names())\n",
        "X_df.head()"
      ],
      "execution_count": 11,
      "outputs": [
        {
          "output_type": "execute_result",
          "data": {
            "text/html": [
              "<div>\n",
              "<style scoped>\n",
              "    .dataframe tbody tr th:only-of-type {\n",
              "        vertical-align: middle;\n",
              "    }\n",
              "\n",
              "    .dataframe tbody tr th {\n",
              "        vertical-align: top;\n",
              "    }\n",
              "\n",
              "    .dataframe thead th {\n",
              "        text-align: right;\n",
              "    }\n",
              "</style>\n",
              "<table border=\"1\" class=\"dataframe\">\n",
              "  <thead>\n",
              "    <tr style=\"text-align: right;\">\n",
              "      <th></th>\n",
              "      <th>aaaaaaa</th>\n",
              "      <th>aaaaaac</th>\n",
              "      <th>aaaaaag</th>\n",
              "      <th>aaaaaan</th>\n",
              "      <th>aaaaaat</th>\n",
              "      <th>aaaaaaw</th>\n",
              "      <th>aaaaaca</th>\n",
              "      <th>aaaaacc</th>\n",
              "      <th>aaaaacg</th>\n",
              "      <th>aaaaacn</th>\n",
              "      <th>aaaaact</th>\n",
              "      <th>aaaaaga</th>\n",
              "      <th>aaaaagc</th>\n",
              "      <th>aaaaagg</th>\n",
              "      <th>aaaaagn</th>\n",
              "      <th>aaaaagr</th>\n",
              "      <th>aaaaagt</th>\n",
              "      <th>aaaaana</th>\n",
              "      <th>aaaaann</th>\n",
              "      <th>aaaaara</th>\n",
              "      <th>aaaaarg</th>\n",
              "      <th>aaaaart</th>\n",
              "      <th>aaaaata</th>\n",
              "      <th>aaaaatc</th>\n",
              "      <th>aaaaatg</th>\n",
              "      <th>aaaaatm</th>\n",
              "      <th>aaaaatn</th>\n",
              "      <th>aaaaatt</th>\n",
              "      <th>aaaaaty</th>\n",
              "      <th>aaaaawa</th>\n",
              "      <th>aaaaayc</th>\n",
              "      <th>aaaaaym</th>\n",
              "      <th>aaaacaa</th>\n",
              "      <th>aaaacac</th>\n",
              "      <th>aaaacag</th>\n",
              "      <th>aaaacan</th>\n",
              "      <th>aaaacat</th>\n",
              "      <th>aaaacca</th>\n",
              "      <th>aaaaccc</th>\n",
              "      <th>aaaaccg</th>\n",
              "      <th>...</th>\n",
              "      <th>ytgyaaa</th>\n",
              "      <th>ytgytyt</th>\n",
              "      <th>ytmrakk</th>\n",
              "      <th>ytmrggg</th>\n",
              "      <th>ytrgcag</th>\n",
              "      <th>yttaaga</th>\n",
              "      <th>yttacag</th>\n",
              "      <th>yttacca</th>\n",
              "      <th>yttagaa</th>\n",
              "      <th>yttagac</th>\n",
              "      <th>yttagag</th>\n",
              "      <th>yttagca</th>\n",
              "      <th>yttaraa</th>\n",
              "      <th>yttcagg</th>\n",
              "      <th>yttcttt</th>\n",
              "      <th>yttgaag</th>\n",
              "      <th>yttgcca</th>\n",
              "      <th>yttggac</th>\n",
              "      <th>yttggcc</th>\n",
              "      <th>yttgggt</th>\n",
              "      <th>yttgtat</th>\n",
              "      <th>yttgtta</th>\n",
              "      <th>yttgttc</th>\n",
              "      <th>yttgyta</th>\n",
              "      <th>yttrcca</th>\n",
              "      <th>ytttaat</th>\n",
              "      <th>ytttaga</th>\n",
              "      <th>ytttagg</th>\n",
              "      <th>ytttatc</th>\n",
              "      <th>ytttcaa</th>\n",
              "      <th>ytttgat</th>\n",
              "      <th>ytttggc</th>\n",
              "      <th>yttttca</th>\n",
              "      <th>yttttgg</th>\n",
              "      <th>ytwgaat</th>\n",
              "      <th>ytytgga</th>\n",
              "      <th>ywggytg</th>\n",
              "      <th>ywtatta</th>\n",
              "      <th>yyactas</th>\n",
              "      <th>yytatag</th>\n",
              "    </tr>\n",
              "  </thead>\n",
              "  <tbody>\n",
              "    <tr>\n",
              "      <th>0</th>\n",
              "      <td>0</td>\n",
              "      <td>1</td>\n",
              "      <td>1</td>\n",
              "      <td>0</td>\n",
              "      <td>3</td>\n",
              "      <td>0</td>\n",
              "      <td>1</td>\n",
              "      <td>0</td>\n",
              "      <td>0</td>\n",
              "      <td>0</td>\n",
              "      <td>0</td>\n",
              "      <td>0</td>\n",
              "      <td>0</td>\n",
              "      <td>1</td>\n",
              "      <td>0</td>\n",
              "      <td>0</td>\n",
              "      <td>0</td>\n",
              "      <td>0</td>\n",
              "      <td>0</td>\n",
              "      <td>0</td>\n",
              "      <td>0</td>\n",
              "      <td>0</td>\n",
              "      <td>3</td>\n",
              "      <td>2</td>\n",
              "      <td>1</td>\n",
              "      <td>0</td>\n",
              "      <td>0</td>\n",
              "      <td>3</td>\n",
              "      <td>0</td>\n",
              "      <td>0</td>\n",
              "      <td>0</td>\n",
              "      <td>0</td>\n",
              "      <td>0</td>\n",
              "      <td>0</td>\n",
              "      <td>0</td>\n",
              "      <td>0</td>\n",
              "      <td>1</td>\n",
              "      <td>0</td>\n",
              "      <td>0</td>\n",
              "      <td>0</td>\n",
              "      <td>...</td>\n",
              "      <td>0</td>\n",
              "      <td>0</td>\n",
              "      <td>0</td>\n",
              "      <td>0</td>\n",
              "      <td>0</td>\n",
              "      <td>0</td>\n",
              "      <td>0</td>\n",
              "      <td>1</td>\n",
              "      <td>0</td>\n",
              "      <td>0</td>\n",
              "      <td>0</td>\n",
              "      <td>0</td>\n",
              "      <td>0</td>\n",
              "      <td>0</td>\n",
              "      <td>1</td>\n",
              "      <td>0</td>\n",
              "      <td>0</td>\n",
              "      <td>0</td>\n",
              "      <td>0</td>\n",
              "      <td>0</td>\n",
              "      <td>0</td>\n",
              "      <td>0</td>\n",
              "      <td>0</td>\n",
              "      <td>0</td>\n",
              "      <td>0</td>\n",
              "      <td>0</td>\n",
              "      <td>0</td>\n",
              "      <td>0</td>\n",
              "      <td>0</td>\n",
              "      <td>0</td>\n",
              "      <td>0</td>\n",
              "      <td>0</td>\n",
              "      <td>0</td>\n",
              "      <td>0</td>\n",
              "      <td>0</td>\n",
              "      <td>0</td>\n",
              "      <td>0</td>\n",
              "      <td>0</td>\n",
              "      <td>0</td>\n",
              "      <td>0</td>\n",
              "    </tr>\n",
              "    <tr>\n",
              "      <th>1</th>\n",
              "      <td>0</td>\n",
              "      <td>0</td>\n",
              "      <td>2</td>\n",
              "      <td>0</td>\n",
              "      <td>1</td>\n",
              "      <td>0</td>\n",
              "      <td>0</td>\n",
              "      <td>0</td>\n",
              "      <td>0</td>\n",
              "      <td>0</td>\n",
              "      <td>0</td>\n",
              "      <td>3</td>\n",
              "      <td>0</td>\n",
              "      <td>1</td>\n",
              "      <td>0</td>\n",
              "      <td>0</td>\n",
              "      <td>0</td>\n",
              "      <td>0</td>\n",
              "      <td>0</td>\n",
              "      <td>0</td>\n",
              "      <td>0</td>\n",
              "      <td>0</td>\n",
              "      <td>2</td>\n",
              "      <td>2</td>\n",
              "      <td>1</td>\n",
              "      <td>0</td>\n",
              "      <td>0</td>\n",
              "      <td>1</td>\n",
              "      <td>0</td>\n",
              "      <td>0</td>\n",
              "      <td>0</td>\n",
              "      <td>0</td>\n",
              "      <td>0</td>\n",
              "      <td>0</td>\n",
              "      <td>1</td>\n",
              "      <td>0</td>\n",
              "      <td>0</td>\n",
              "      <td>1</td>\n",
              "      <td>0</td>\n",
              "      <td>0</td>\n",
              "      <td>...</td>\n",
              "      <td>0</td>\n",
              "      <td>0</td>\n",
              "      <td>0</td>\n",
              "      <td>0</td>\n",
              "      <td>0</td>\n",
              "      <td>0</td>\n",
              "      <td>0</td>\n",
              "      <td>0</td>\n",
              "      <td>0</td>\n",
              "      <td>0</td>\n",
              "      <td>0</td>\n",
              "      <td>0</td>\n",
              "      <td>0</td>\n",
              "      <td>0</td>\n",
              "      <td>0</td>\n",
              "      <td>0</td>\n",
              "      <td>0</td>\n",
              "      <td>0</td>\n",
              "      <td>0</td>\n",
              "      <td>0</td>\n",
              "      <td>0</td>\n",
              "      <td>0</td>\n",
              "      <td>0</td>\n",
              "      <td>0</td>\n",
              "      <td>0</td>\n",
              "      <td>0</td>\n",
              "      <td>0</td>\n",
              "      <td>0</td>\n",
              "      <td>0</td>\n",
              "      <td>0</td>\n",
              "      <td>0</td>\n",
              "      <td>0</td>\n",
              "      <td>1</td>\n",
              "      <td>0</td>\n",
              "      <td>0</td>\n",
              "      <td>0</td>\n",
              "      <td>0</td>\n",
              "      <td>0</td>\n",
              "      <td>0</td>\n",
              "      <td>0</td>\n",
              "    </tr>\n",
              "    <tr>\n",
              "      <th>2</th>\n",
              "      <td>0</td>\n",
              "      <td>0</td>\n",
              "      <td>1</td>\n",
              "      <td>0</td>\n",
              "      <td>1</td>\n",
              "      <td>0</td>\n",
              "      <td>0</td>\n",
              "      <td>0</td>\n",
              "      <td>0</td>\n",
              "      <td>0</td>\n",
              "      <td>0</td>\n",
              "      <td>2</td>\n",
              "      <td>0</td>\n",
              "      <td>0</td>\n",
              "      <td>0</td>\n",
              "      <td>0</td>\n",
              "      <td>0</td>\n",
              "      <td>0</td>\n",
              "      <td>0</td>\n",
              "      <td>0</td>\n",
              "      <td>0</td>\n",
              "      <td>0</td>\n",
              "      <td>2</td>\n",
              "      <td>1</td>\n",
              "      <td>1</td>\n",
              "      <td>0</td>\n",
              "      <td>0</td>\n",
              "      <td>1</td>\n",
              "      <td>0</td>\n",
              "      <td>0</td>\n",
              "      <td>0</td>\n",
              "      <td>0</td>\n",
              "      <td>0</td>\n",
              "      <td>0</td>\n",
              "      <td>0</td>\n",
              "      <td>0</td>\n",
              "      <td>0</td>\n",
              "      <td>0</td>\n",
              "      <td>0</td>\n",
              "      <td>0</td>\n",
              "      <td>...</td>\n",
              "      <td>0</td>\n",
              "      <td>0</td>\n",
              "      <td>0</td>\n",
              "      <td>0</td>\n",
              "      <td>0</td>\n",
              "      <td>0</td>\n",
              "      <td>0</td>\n",
              "      <td>0</td>\n",
              "      <td>0</td>\n",
              "      <td>0</td>\n",
              "      <td>0</td>\n",
              "      <td>0</td>\n",
              "      <td>0</td>\n",
              "      <td>0</td>\n",
              "      <td>0</td>\n",
              "      <td>0</td>\n",
              "      <td>0</td>\n",
              "      <td>0</td>\n",
              "      <td>0</td>\n",
              "      <td>0</td>\n",
              "      <td>0</td>\n",
              "      <td>0</td>\n",
              "      <td>0</td>\n",
              "      <td>0</td>\n",
              "      <td>0</td>\n",
              "      <td>0</td>\n",
              "      <td>0</td>\n",
              "      <td>0</td>\n",
              "      <td>0</td>\n",
              "      <td>0</td>\n",
              "      <td>0</td>\n",
              "      <td>0</td>\n",
              "      <td>0</td>\n",
              "      <td>0</td>\n",
              "      <td>0</td>\n",
              "      <td>0</td>\n",
              "      <td>0</td>\n",
              "      <td>0</td>\n",
              "      <td>0</td>\n",
              "      <td>0</td>\n",
              "    </tr>\n",
              "    <tr>\n",
              "      <th>3</th>\n",
              "      <td>0</td>\n",
              "      <td>0</td>\n",
              "      <td>1</td>\n",
              "      <td>0</td>\n",
              "      <td>0</td>\n",
              "      <td>0</td>\n",
              "      <td>0</td>\n",
              "      <td>0</td>\n",
              "      <td>0</td>\n",
              "      <td>0</td>\n",
              "      <td>0</td>\n",
              "      <td>1</td>\n",
              "      <td>0</td>\n",
              "      <td>1</td>\n",
              "      <td>0</td>\n",
              "      <td>0</td>\n",
              "      <td>0</td>\n",
              "      <td>0</td>\n",
              "      <td>0</td>\n",
              "      <td>0</td>\n",
              "      <td>0</td>\n",
              "      <td>0</td>\n",
              "      <td>0</td>\n",
              "      <td>0</td>\n",
              "      <td>1</td>\n",
              "      <td>0</td>\n",
              "      <td>0</td>\n",
              "      <td>1</td>\n",
              "      <td>0</td>\n",
              "      <td>0</td>\n",
              "      <td>0</td>\n",
              "      <td>0</td>\n",
              "      <td>0</td>\n",
              "      <td>0</td>\n",
              "      <td>1</td>\n",
              "      <td>0</td>\n",
              "      <td>0</td>\n",
              "      <td>0</td>\n",
              "      <td>0</td>\n",
              "      <td>0</td>\n",
              "      <td>...</td>\n",
              "      <td>0</td>\n",
              "      <td>0</td>\n",
              "      <td>0</td>\n",
              "      <td>0</td>\n",
              "      <td>0</td>\n",
              "      <td>0</td>\n",
              "      <td>0</td>\n",
              "      <td>0</td>\n",
              "      <td>0</td>\n",
              "      <td>0</td>\n",
              "      <td>0</td>\n",
              "      <td>0</td>\n",
              "      <td>0</td>\n",
              "      <td>0</td>\n",
              "      <td>0</td>\n",
              "      <td>0</td>\n",
              "      <td>0</td>\n",
              "      <td>0</td>\n",
              "      <td>0</td>\n",
              "      <td>0</td>\n",
              "      <td>0</td>\n",
              "      <td>0</td>\n",
              "      <td>0</td>\n",
              "      <td>0</td>\n",
              "      <td>0</td>\n",
              "      <td>0</td>\n",
              "      <td>0</td>\n",
              "      <td>0</td>\n",
              "      <td>0</td>\n",
              "      <td>0</td>\n",
              "      <td>0</td>\n",
              "      <td>0</td>\n",
              "      <td>0</td>\n",
              "      <td>0</td>\n",
              "      <td>0</td>\n",
              "      <td>0</td>\n",
              "      <td>0</td>\n",
              "      <td>0</td>\n",
              "      <td>0</td>\n",
              "      <td>0</td>\n",
              "    </tr>\n",
              "    <tr>\n",
              "      <th>4</th>\n",
              "      <td>0</td>\n",
              "      <td>0</td>\n",
              "      <td>0</td>\n",
              "      <td>0</td>\n",
              "      <td>1</td>\n",
              "      <td>0</td>\n",
              "      <td>0</td>\n",
              "      <td>0</td>\n",
              "      <td>0</td>\n",
              "      <td>0</td>\n",
              "      <td>0</td>\n",
              "      <td>0</td>\n",
              "      <td>0</td>\n",
              "      <td>1</td>\n",
              "      <td>0</td>\n",
              "      <td>0</td>\n",
              "      <td>0</td>\n",
              "      <td>0</td>\n",
              "      <td>0</td>\n",
              "      <td>0</td>\n",
              "      <td>0</td>\n",
              "      <td>0</td>\n",
              "      <td>0</td>\n",
              "      <td>2</td>\n",
              "      <td>1</td>\n",
              "      <td>0</td>\n",
              "      <td>0</td>\n",
              "      <td>1</td>\n",
              "      <td>0</td>\n",
              "      <td>0</td>\n",
              "      <td>0</td>\n",
              "      <td>0</td>\n",
              "      <td>1</td>\n",
              "      <td>0</td>\n",
              "      <td>0</td>\n",
              "      <td>0</td>\n",
              "      <td>0</td>\n",
              "      <td>0</td>\n",
              "      <td>0</td>\n",
              "      <td>0</td>\n",
              "      <td>...</td>\n",
              "      <td>0</td>\n",
              "      <td>0</td>\n",
              "      <td>0</td>\n",
              "      <td>0</td>\n",
              "      <td>0</td>\n",
              "      <td>0</td>\n",
              "      <td>0</td>\n",
              "      <td>0</td>\n",
              "      <td>0</td>\n",
              "      <td>0</td>\n",
              "      <td>0</td>\n",
              "      <td>0</td>\n",
              "      <td>0</td>\n",
              "      <td>0</td>\n",
              "      <td>0</td>\n",
              "      <td>0</td>\n",
              "      <td>0</td>\n",
              "      <td>0</td>\n",
              "      <td>0</td>\n",
              "      <td>0</td>\n",
              "      <td>0</td>\n",
              "      <td>0</td>\n",
              "      <td>0</td>\n",
              "      <td>0</td>\n",
              "      <td>0</td>\n",
              "      <td>0</td>\n",
              "      <td>0</td>\n",
              "      <td>0</td>\n",
              "      <td>0</td>\n",
              "      <td>0</td>\n",
              "      <td>0</td>\n",
              "      <td>0</td>\n",
              "      <td>0</td>\n",
              "      <td>0</td>\n",
              "      <td>0</td>\n",
              "      <td>0</td>\n",
              "      <td>0</td>\n",
              "      <td>0</td>\n",
              "      <td>0</td>\n",
              "      <td>0</td>\n",
              "    </tr>\n",
              "  </tbody>\n",
              "</table>\n",
              "<p>5 rows × 28137 columns</p>\n",
              "</div>"
            ],
            "text/plain": [
              "   aaaaaaa  aaaaaac  aaaaaag  aaaaaan  ...  ywggytg  ywtatta  yyactas  yytatag\n",
              "0        0        1        1        0  ...        0        0        0        0\n",
              "1        0        0        2        0  ...        0        0        0        0\n",
              "2        0        0        1        0  ...        0        0        0        0\n",
              "3        0        0        1        0  ...        0        0        0        0\n",
              "4        0        0        0        0  ...        0        0        0        0\n",
              "\n",
              "[5 rows x 28137 columns]"
            ]
          },
          "metadata": {
            "tags": []
          },
          "execution_count": 11
        }
      ]
    },
    {
      "cell_type": "code",
      "metadata": {
        "id": "kuXddO1sAusH"
      },
      "source": [
        "#split the data into train and split\n",
        "X_train , X_test , y_train , y_test = train_test_split(X,y, test_size = 0.2 , random_state = 42)"
      ],
      "execution_count": 12,
      "outputs": []
    },
    {
      "cell_type": "code",
      "metadata": {
        "colab": {
          "base_uri": "https://localhost:8080/"
        },
        "id": "8KEpTwP9BKyO",
        "outputId": "bdd462ce-a154-4b4b-efed-dd6fc861063a"
      },
      "source": [
        "\n",
        "print(\"Shape of the training data----->\",X_train.shape)\n",
        "print(\"Shape of the training target data----->\",y_train.shape)\n",
        "print(\"Shape of the testing data----->\",X_test.shape)\n",
        "print(\"Shape of the testing target data----->\",y_test.shape)"
      ],
      "execution_count": 13,
      "outputs": [
        {
          "output_type": "stream",
          "text": [
            "Shape of the training data-----> (1245, 28137)\n",
            "Shape of the training target data-----> (1245,)\n",
            "Shape of the testing data-----> (312, 28137)\n",
            "Shape of the testing target data-----> (312,)\n"
          ],
          "name": "stdout"
        }
      ]
    },
    {
      "cell_type": "code",
      "metadata": {
        "colab": {
          "base_uri": "https://localhost:8080/"
        },
        "id": "GpQRLF1ZBqV8",
        "outputId": "12917294-dfb6-4199-8c8e-4082cf86f4a7"
      },
      "source": [
        "#train the model\n",
        "mNB = MultinomialNB(alpha = 0.1)\n",
        "mNB.fit(X_train , y_train)"
      ],
      "execution_count": 14,
      "outputs": [
        {
          "output_type": "execute_result",
          "data": {
            "text/plain": [
              "MultinomialNB(alpha=0.1, class_prior=None, fit_prior=True)"
            ]
          },
          "metadata": {
            "tags": []
          },
          "execution_count": 14
        }
      ]
    },
    {
      "cell_type": "code",
      "metadata": {
        "id": "bHwhTY7gCBGq"
      },
      "source": [
        "\n",
        "y_pred = mNB.predict(X_test)"
      ],
      "execution_count": 15,
      "outputs": []
    },
    {
      "cell_type": "code",
      "metadata": {
        "colab": {
          "base_uri": "https://localhost:8080/"
        },
        "id": "ZiWX3XZJCGaM",
        "outputId": "cc8e0575-e90c-4b01-abb2-642f2d58b6f3"
      },
      "source": [
        "\n",
        "print(\"Confusion matrix\\n\")\n",
        "print(pd.crosstab(pd.Series(y_test, name='Actual'), pd.Series(y_pred, name='Predicted')))\n",
        "def get_metrics(y_test, y_predicted):\n",
        "    accuracy = accuracy_score(y_test, y_predicted)\n",
        "    precision = precision_score(y_test, y_predicted, average='weighted')\n",
        "    recall = recall_score(y_test, y_predicted, average='weighted')\n",
        "    f1 = f1_score(y_test, y_predicted, average='weighted')\n",
        "    return accuracy, precision, recall, f1\n",
        "accuracy, precision, recall, f1 = get_metrics(y_test, y_pred)\n",
        "print(\"accuracy = %.3f \\nprecision = %.3f \\nrecall = %.3f \\nf1 = %.3f\" % (accuracy, precision, recall, f1))"
      ],
      "execution_count": 16,
      "outputs": [
        {
          "output_type": "stream",
          "text": [
            "Confusion matrix\n",
            "\n",
            "Predicted    0    1\n",
            "Actual             \n",
            "0          145    0\n",
            "1            0  167\n",
            "accuracy = 1.000 \n",
            "precision = 1.000 \n",
            "recall = 1.000 \n",
            "f1 = 1.000\n"
          ],
          "name": "stdout"
        }
      ]
    },
    {
      "cell_type": "markdown",
      "metadata": {
        "id": "jXhSXNHNSN4E"
      },
      "source": [
        "# Random Forest"
      ]
    },
    {
      "cell_type": "code",
      "metadata": {
        "id": "Y9iai6XmSNou",
        "colab": {
          "base_uri": "https://localhost:8080/"
        },
        "outputId": "c73055d8-e080-4935-f65c-e1a058da6105"
      },
      "source": [
        "from sklearn.ensemble import RandomForestClassifier\n",
        "rfc = RandomForestClassifier(n_estimators = 50)\n",
        "rfc.fit(X_train, y_train)"
      ],
      "execution_count": 17,
      "outputs": [
        {
          "output_type": "execute_result",
          "data": {
            "text/plain": [
              "RandomForestClassifier(bootstrap=True, ccp_alpha=0.0, class_weight=None,\n",
              "                       criterion='gini', max_depth=None, max_features='auto',\n",
              "                       max_leaf_nodes=None, max_samples=None,\n",
              "                       min_impurity_decrease=0.0, min_impurity_split=None,\n",
              "                       min_samples_leaf=1, min_samples_split=2,\n",
              "                       min_weight_fraction_leaf=0.0, n_estimators=50,\n",
              "                       n_jobs=None, oob_score=False, random_state=None,\n",
              "                       verbose=0, warm_start=False)"
            ]
          },
          "metadata": {
            "tags": []
          },
          "execution_count": 17
        }
      ]
    },
    {
      "cell_type": "code",
      "metadata": {
        "id": "w15JqFToVDjb"
      },
      "source": [
        "y_pred_rfc = rfc.predict(X_test)"
      ],
      "execution_count": 18,
      "outputs": []
    },
    {
      "cell_type": "code",
      "metadata": {
        "id": "sSKUlyjfEtMu",
        "colab": {
          "base_uri": "https://localhost:8080/"
        },
        "outputId": "7d1029f1-a48a-4b6c-98e7-087a30dd46aa"
      },
      "source": [
        "print(\"Confusion matrix\\n\")\n",
        "print(pd.crosstab(pd.Series(y_test, name='Actual'), pd.Series(y_pred, name='Predicted')))\n",
        "\n",
        "accuracy, precision, recall, f1 = get_metrics(y_test, y_pred_rfc)\n",
        "print(\"accuracy = %.3f \\nprecision = %.3f \\nrecall = %.3f \\nf1 = %.3f\" % (accuracy, precision, recall, f1))"
      ],
      "execution_count": 19,
      "outputs": [
        {
          "output_type": "stream",
          "text": [
            "Confusion matrix\n",
            "\n",
            "Predicted    0    1\n",
            "Actual             \n",
            "0          145    0\n",
            "1            0  167\n",
            "accuracy = 0.994 \n",
            "precision = 0.994 \n",
            "recall = 0.994 \n",
            "f1 = 0.994\n"
          ],
          "name": "stdout"
        }
      ]
    },
    {
      "cell_type": "code",
      "metadata": {
        "id": "T9NbuNJ2-KCf"
      },
      "source": [
        "import pickle\n",
        "pickle.dump(rfc, open('/content/drive/MyDrive/Colab Notebooks/dataFiles/DNA_Genome_Analysis_covid19/model_rf.pkl','wb'))\n",
        "\n",
        "#load the model\n",
        "model = pickle.load(open('/content/drive/MyDrive/Colab Notebooks/dataFiles/DNA_Genome_Analysis_covid19/model_rf.pkl','rb'))\n"
      ],
      "execution_count": 21,
      "outputs": []
    },
    {
      "cell_type": "code",
      "metadata": {
        "id": "U8CuU3Cn_8yF",
        "outputId": "5b33cf2a-0dc2-4f32-85df-0bf9c106ae6c",
        "colab": {
          "base_uri": "https://localhost:8080/"
        }
      },
      "source": [
        "data = X_train[0,:].reshape(1,-1)\n",
        "model.predict(data)"
      ],
      "execution_count": 30,
      "outputs": [
        {
          "output_type": "execute_result",
          "data": {
            "text/plain": [
              "array([1])"
            ]
          },
          "metadata": {
            "tags": []
          },
          "execution_count": 30
        }
      ]
    },
    {
      "cell_type": "markdown",
      "metadata": {
        "id": "Rq519LOsVbuU"
      },
      "source": [
        "# Support Vector Machine"
      ]
    },
    {
      "cell_type": "code",
      "metadata": {
        "id": "EjV_1hG2VJAu"
      },
      "source": [
        "from sklearn.svm import SVC\n",
        "svc = SVC()\n",
        "svc.fit(X_train, y_train)"
      ],
      "execution_count": null,
      "outputs": []
    },
    {
      "cell_type": "code",
      "metadata": {
        "id": "RZm7ED4PVqoA"
      },
      "source": [
        "y_pred_svc = svc.predict(X_test)"
      ],
      "execution_count": null,
      "outputs": []
    },
    {
      "cell_type": "code",
      "metadata": {
        "id": "Yeq2Aa-VVuCb"
      },
      "source": [
        "print(\"Confusion matrix\\n\")\n",
        "print(pd.crosstab(pd.Series(y_test, name='Actual'), pd.Series(y_pred, name='Predicted')))\n",
        "\n",
        "accuracy, precision, recall, f1 = get_metrics(y_test, y_pred_svc)\n",
        "print(\"accuracy = %.3f \\nprecision = %.3f \\nrecall = %.3f \\nf1 = %.3f\" % (accuracy, precision, recall, f1))"
      ],
      "execution_count": null,
      "outputs": []
    },
    {
      "cell_type": "code",
      "metadata": {
        "id": "TCknFP5qVxo6"
      },
      "source": [
        ""
      ],
      "execution_count": null,
      "outputs": []
    }
  ]
}