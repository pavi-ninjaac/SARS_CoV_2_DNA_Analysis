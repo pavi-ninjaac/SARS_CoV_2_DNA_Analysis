{
  "nbformat": 4,
  "nbformat_minor": 0,
  "metadata": {
    "colab": {
      "name": "DNA_Analysis_CovidvsHIV",
      "provenance": [],
      "toc_visible": true,
      "mount_file_id": "https://github.com/pavi-ninjaac/SARS_CoV_2_DNA_Analysis/blob/main/DNA_Analysis_CovidvsHIV.ipynb",
      "authorship_tag": "ABX9TyOoXhWb3yLu2u92jEzRml4l",
      "include_colab_link": true
    },
    "kernelspec": {
      "name": "python3",
      "display_name": "Python 3"
    }
  },
  "cells": [
    {
      "cell_type": "markdown",
      "metadata": {
        "id": "view-in-github",
        "colab_type": "text"
      },
      "source": [
        "<a href=\"https://colab.research.google.com/github/pavi-ninjaac/SARS_CoV_2_DNA_Analysis/blob/main/DNA_Analysis_CovidvsHIV.ipynb\" target=\"_parent\"><img src=\"https://colab.research.google.com/assets/colab-badge.svg\" alt=\"Open In Colab\"/></a>"
      ]
    },
    {
      "cell_type": "markdown",
      "metadata": {
        "id": "V3v_7SIKHd7c"
      },
      "source": [
        "# DNA Classification - COVID19 vs HIV"
      ]
    },
    {
      "cell_type": "code",
      "metadata": {
        "colab": {
          "base_uri": "https://localhost:8080/"
        },
        "id": "Xb_3tc3gH8p5",
        "outputId": "4944b91b-e7df-4a3b-da7c-ffcef3b7a8ca"
      },
      "source": [
        "! pip install Bio"
      ],
      "execution_count": 29,
      "outputs": [
        {
          "output_type": "stream",
          "text": [
            "Requirement already satisfied: Bio in /usr/local/lib/python3.7/dist-packages (0.3.0)\n",
            "Requirement already satisfied: pytest in /usr/local/lib/python3.7/dist-packages (from Bio) (3.6.4)\n",
            "Requirement already satisfied: requests in /usr/local/lib/python3.7/dist-packages (from Bio) (2.23.0)\n",
            "Requirement already satisfied: biopython>=1.78 in /usr/local/lib/python3.7/dist-packages (from Bio) (1.78)\n",
            "Requirement already satisfied: atomicwrites>=1.0 in /usr/local/lib/python3.7/dist-packages (from pytest->Bio) (1.4.0)\n",
            "Requirement already satisfied: more-itertools>=4.0.0 in /usr/local/lib/python3.7/dist-packages (from pytest->Bio) (8.7.0)\n",
            "Requirement already satisfied: pluggy<0.8,>=0.5 in /usr/local/lib/python3.7/dist-packages (from pytest->Bio) (0.7.1)\n",
            "Requirement already satisfied: setuptools in /usr/local/lib/python3.7/dist-packages (from pytest->Bio) (53.0.0)\n",
            "Requirement already satisfied: six>=1.10.0 in /usr/local/lib/python3.7/dist-packages (from pytest->Bio) (1.15.0)\n",
            "Requirement already satisfied: attrs>=17.4.0 in /usr/local/lib/python3.7/dist-packages (from pytest->Bio) (20.3.0)\n",
            "Requirement already satisfied: py>=1.5.0 in /usr/local/lib/python3.7/dist-packages (from pytest->Bio) (1.10.0)\n",
            "Requirement already satisfied: idna<3,>=2.5 in /usr/local/lib/python3.7/dist-packages (from requests->Bio) (2.10)\n",
            "Requirement already satisfied: certifi>=2017.4.17 in /usr/local/lib/python3.7/dist-packages (from requests->Bio) (2020.12.5)\n",
            "Requirement already satisfied: urllib3!=1.25.0,!=1.25.1,<1.26,>=1.21.1 in /usr/local/lib/python3.7/dist-packages (from requests->Bio) (1.24.3)\n",
            "Requirement already satisfied: chardet<4,>=3.0.2 in /usr/local/lib/python3.7/dist-packages (from requests->Bio) (3.0.4)\n",
            "Requirement already satisfied: numpy in /usr/local/lib/python3.7/dist-packages (from biopython>=1.78->Bio) (1.19.5)\n"
          ],
          "name": "stdout"
        }
      ]
    },
    {
      "cell_type": "code",
      "metadata": {
        "id": "7TotgLPFHEtL"
      },
      "source": [
        "#import libraries\r\n",
        "import pandas as pd\r\n",
        "import numpy as np\r\n",
        "import matplotlib.pyplot as plt\r\n",
        "import seaborn as sns\r\n",
        "\r\n",
        "#for fasta file handling \r\n",
        "from Bio import SeqIO\r\n",
        "from sklearn.feature_extraction.text import CountVectorizer\r\n",
        "from sklearn.model_selection import train_test_split\r\n",
        "from sklearn.naive_bayes import MultinomialNB"
      ],
      "execution_count": 30,
      "outputs": []
    },
    {
      "cell_type": "code",
      "metadata": {
        "id": "TBScLIoOH4lA"
      },
      "source": [
        "def generate_data(file_list):\r\n",
        "  X = []\r\n",
        "  y = []\r\n",
        "  label = 1 # for hiv\r\n",
        "  for i in file_list:\r\n",
        "    filepath = '/content/drive/MyDrive/Colab Notebooks/dataFiles/DNA_Genome_Analysis_covid19/'+i+'.fasta'\r\n",
        "    records = list(SeqIO.parse(filepath , 'fasta'))\r\n",
        "\r\n",
        "    for index in range(len(records)):\r\n",
        "      X.append(str(records[index].seq))\r\n",
        "      y.append(label)\r\n",
        "    label = 0 #for covid19\r\n",
        "  \r\n",
        "  data = pd.DataFrame({'DNASequence' : X , 'label' : y})\r\n",
        "\r\n",
        "  return data"
      ],
      "execution_count": 31,
      "outputs": []
    },
    {
      "cell_type": "code",
      "metadata": {
        "colab": {
          "base_uri": "https://localhost:8080/",
          "height": 204
        },
        "id": "TZO4_1yPMmuc",
        "outputId": "18a19e90-c665-4c6e-f3d9-55daad377579"
      },
      "source": [
        "file_list = ['HIV' , 'covid19']\r\n",
        "data = generate_data(file_list)\r\n",
        "data.head(5)"
      ],
      "execution_count": 32,
      "outputs": [
        {
          "output_type": "execute_result",
          "data": {
            "text/html": [
              "<div>\n",
              "<style scoped>\n",
              "    .dataframe tbody tr th:only-of-type {\n",
              "        vertical-align: middle;\n",
              "    }\n",
              "\n",
              "    .dataframe tbody tr th {\n",
              "        vertical-align: top;\n",
              "    }\n",
              "\n",
              "    .dataframe thead th {\n",
              "        text-align: right;\n",
              "    }\n",
              "</style>\n",
              "<table border=\"1\" class=\"dataframe\">\n",
              "  <thead>\n",
              "    <tr style=\"text-align: right;\">\n",
              "      <th></th>\n",
              "      <th>DNASequence</th>\n",
              "      <th>label</th>\n",
              "    </tr>\n",
              "  </thead>\n",
              "  <tbody>\n",
              "    <tr>\n",
              "      <th>0</th>\n",
              "      <td>CCTCAAATCACTCTTTGGCAGCGACCCCTGGTCTCAATAAAAGTAG...</td>\n",
              "      <td>1</td>\n",
              "    </tr>\n",
              "    <tr>\n",
              "      <th>1</th>\n",
              "      <td>CCTCAAATCACTCTTTGGCAGCGACCCCTGGTCTCAATAAAAGTAG...</td>\n",
              "      <td>1</td>\n",
              "    </tr>\n",
              "    <tr>\n",
              "      <th>2</th>\n",
              "      <td>CCTCAAATCACTCTTTGGCAGCGACCCCTGGTCCCAATAAAAGTAG...</td>\n",
              "      <td>1</td>\n",
              "    </tr>\n",
              "    <tr>\n",
              "      <th>3</th>\n",
              "      <td>CCTCAAATCACTCTTTGGCAGCGACCCCTGGTCTCAATAAAAGTAG...</td>\n",
              "      <td>1</td>\n",
              "    </tr>\n",
              "    <tr>\n",
              "      <th>4</th>\n",
              "      <td>CCTCAAATCACTCTTTGGCAGCGACCCCTGGTCYCAATAAAAGTAG...</td>\n",
              "      <td>1</td>\n",
              "    </tr>\n",
              "  </tbody>\n",
              "</table>\n",
              "</div>"
            ],
            "text/plain": [
              "                                         DNASequence  label\n",
              "0  CCTCAAATCACTCTTTGGCAGCGACCCCTGGTCTCAATAAAAGTAG...      1\n",
              "1  CCTCAAATCACTCTTTGGCAGCGACCCCTGGTCTCAATAAAAGTAG...      1\n",
              "2  CCTCAAATCACTCTTTGGCAGCGACCCCTGGTCCCAATAAAAGTAG...      1\n",
              "3  CCTCAAATCACTCTTTGGCAGCGACCCCTGGTCTCAATAAAAGTAG...      1\n",
              "4  CCTCAAATCACTCTTTGGCAGCGACCCCTGGTCYCAATAAAAGTAG...      1"
            ]
          },
          "metadata": {
            "tags": []
          },
          "execution_count": 32
        }
      ]
    },
    {
      "cell_type": "markdown",
      "metadata": {
        "id": "9vBEt2BPNmVA"
      },
      "source": [
        "# Category analysis"
      ]
    },
    {
      "cell_type": "code",
      "metadata": {
        "colab": {
          "base_uri": "https://localhost:8080/",
          "height": 282
        },
        "id": "JmF0v7fgNlw-",
        "outputId": "107ea83b-58eb-46e0-ca73-1045e21fd39e"
      },
      "source": [
        "category = data['label'].value_counts()\r\n",
        "sns.barplot(x=category.index,y=category.values)"
      ],
      "execution_count": 33,
      "outputs": [
        {
          "output_type": "execute_result",
          "data": {
            "text/plain": [
              "<matplotlib.axes._subplots.AxesSubplot at 0x7fe97226e9d0>"
            ]
          },
          "metadata": {
            "tags": []
          },
          "execution_count": 33
        },
        {
          "output_type": "display_data",
          "data": {
            "image/png": "[encoded data removed]",
            "text/plain": [
              "<Figure size 432x288 with 1 Axes>"
            ]
          },
          "metadata": {
            "tags": [],
            "needs_background": "light"
          }
        }
      ]
    },
    {
      "cell_type": "code",
      "metadata": {
        "id": "-2AhexRYNWvv",
        "outputId": "f2b0e9c4-74cd-4fda-f36e-0aa6ff6a309f",
        "colab": {
          "base_uri": "https://localhost:8080/",
          "height": 204
        }
      },
      "source": [
        "#convert the squenceof strings to k-mers \r\n",
        "def kmer(sequence , size = 7):\r\n",
        "  return [sequence[i:i+size].lower() for i in range(len(sequence) - size+1 )]\r\n",
        "\r\n",
        "data['words'] = data.apply(lambda x : kmer(x['DNASequence']) , axis = 1)\r\n",
        "data = data.drop('DNASequence' , axis = 1)\r\n",
        "data.head()"
      ],
      "execution_count": 35,
      "outputs": [
        {
          "output_type": "execute_result",
          "data": {
            "text/html": [
              "<div>\n",
              "<style scoped>\n",
              "    .dataframe tbody tr th:only-of-type {\n",
              "        vertical-align: middle;\n",
              "    }\n",
              "\n",
              "    .dataframe tbody tr th {\n",
              "        vertical-align: top;\n",
              "    }\n",
              "\n",
              "    .dataframe thead th {\n",
              "        text-align: right;\n",
              "    }\n",
              "</style>\n",
              "<table border=\"1\" class=\"dataframe\">\n",
              "  <thead>\n",
              "    <tr style=\"text-align: right;\">\n",
              "      <th></th>\n",
              "      <th>label</th>\n",
              "      <th>words</th>\n",
              "    </tr>\n",
              "  </thead>\n",
              "  <tbody>\n",
              "    <tr>\n",
              "      <th>0</th>\n",
              "      <td>1</td>\n",
              "      <td>[cctcaaa, ctcaaat, tcaaatc, caaatca, aaatcac, ...</td>\n",
              "    </tr>\n",
              "    <tr>\n",
              "      <th>1</th>\n",
              "      <td>1</td>\n",
              "      <td>[cctcaaa, ctcaaat, tcaaatc, caaatca, aaatcac, ...</td>\n",
              "    </tr>\n",
              "    <tr>\n",
              "      <th>2</th>\n",
              "      <td>1</td>\n",
              "      <td>[cctcaaa, ctcaaat, tcaaatc, caaatca, aaatcac, ...</td>\n",
              "    </tr>\n",
              "    <tr>\n",
              "      <th>3</th>\n",
              "      <td>1</td>\n",
              "      <td>[cctcaaa, ctcaaat, tcaaatc, caaatca, aaatcac, ...</td>\n",
              "    </tr>\n",
              "    <tr>\n",
              "      <th>4</th>\n",
              "      <td>1</td>\n",
              "      <td>[cctcaaa, ctcaaat, tcaaatc, caaatca, aaatcac, ...</td>\n",
              "    </tr>\n",
              "  </tbody>\n",
              "</table>\n",
              "</div>"
            ],
            "text/plain": [
              "   label                                              words\n",
              "0      1  [cctcaaa, ctcaaat, tcaaatc, caaatca, aaatcac, ...\n",
              "1      1  [cctcaaa, ctcaaat, tcaaatc, caaatca, aaatcac, ...\n",
              "2      1  [cctcaaa, ctcaaat, tcaaatc, caaatca, aaatcac, ...\n",
              "3      1  [cctcaaa, ctcaaat, tcaaatc, caaatca, aaatcac, ...\n",
              "4      1  [cctcaaa, ctcaaat, tcaaatc, caaatca, aaatcac, ..."
            ]
          },
          "metadata": {
            "tags": []
          },
          "execution_count": 35
        }
      ]
    },
    {
      "cell_type": "code",
      "metadata": {
        "id": "7USAPKGP91D4",
        "outputId": "7c2d2995-0bde-45ac-b7ff-ee8b8c19100e",
        "colab": {
          "base_uri": "https://localhost:8080/"
        }
      },
      "source": [
        "#join into  one sentence\r\n",
        "data_x = data['words']\r\n",
        "for i in range(len(data_x)):\r\n",
        "  data_x[i] = ' '.join(data_x[i])\r\n",
        "y = np.array(data['label'])\r\n"
      ],
      "execution_count": 36,
      "outputs": [
        {
          "output_type": "stream",
          "text": [
            "/usr/local/lib/python3.7/dist-packages/ipykernel_launcher.py:4: SettingWithCopyWarning: \n",
            "A value is trying to be set on a copy of a slice from a DataFrame\n",
            "\n",
            "See the caveats in the documentation: https://pandas.pydata.org/pandas-docs/stable/user_guide/indexing.html#returning-a-view-versus-a-copy\n",
            "  after removing the cwd from sys.path.\n"
          ],
          "name": "stderr"
        }
      ]
    },
    {
      "cell_type": "code",
      "metadata": {
        "id": "mPwa5_YS_400",
        "outputId": "326f190a-4993-4fc3-c512-3aafb24c8f5a",
        "colab": {
          "base_uri": "https://localhost:8080/",
          "height": 171
        }
      },
      "source": [
        "data_x[0]"
      ],
      "execution_count": 37,
      "outputs": [
        {
          "output_type": "execute_result",
          "data": {
            "application/vnd.google.colaboratory.intrinsic+json": {
              "type": "string"
            },
            "text/plain": [
              "'cctcaaa ctcaaat tcaaatc caaatca aaatcac aatcact atcactc tcactct cactctt actcttt ctctttg tctttgg ctttggc tttggca ttggcag tggcagc ggcagcg gcagcga cagcgac agcgacc gcgaccc cgacccc gacccct acccctg cccctgg ccctggt cctggtc ctggtct tggtctc ggtctca gtctcaa tctcaat ctcaata tcaataa caataaa aataaaa ataaaag taaaagt aaaagta aaagtag aagtagg agtaggg gtagggg taggggg agggggc gggggcc ggggcca gggccag ggccaga gccagac ccagaca cagacaa agacaaa gacaaaa acaaaag caaaaga aaaagag aaagagg aagaggc agaggct gaggctc aggctct ggctctc gctctct ctctctt tctctta ctcttag tcttaga cttagat ttagata tagatac agataca gatacag atacagg tacagga acaggag caggagc aggagca ggagcag gagcaga agcagat gcagatg cagatga agatgac gatgaca atgacac tgacaca gacacag acacagt cacagta acagtat cagtatt agtatta gtattag tattaga attagaa ttagaag tagaaga agaagac gaagaca aagacat agacata gacataa acataaa cataaat ataaatt taaattt aaatttg aatttgc atttgcc tttgcca ttgccag tgccagg gccagga ccaggaa caggaaa aggaaaa ggaaaat gaaaatg aaaatgg aaatgga aatggaa atggaaa tggaaac ggaaacc gaaacca aaaccaa aaccaaa accaaaa ccaaaaa caaaaat aaaaatg aaaatga aaatgat aatgata atgatag tgatagg gatagga ataggag taggagg aggagga ggaggaa gaggaat aggaatt ggaattg gaattgg aattgga attggag ttggagg tggaggt ggaggtt gaggttt aggtttt ggtttta gttttat ttttatc tttatca ttatcaa tatcaaa atcaaag tcaaagt caaagta aaagtaa aagtaag agtaaga gtaagac taagaca aagacaa agacaat gacaata acaatat caatatg aatatga atatgat tatgatc atgatca tgatcaa gatcaaa atcaaat tcaaata caaatac aaatacc aatacct ataccta tacctat acctata cctatag ctataga tatagaa atagaaa tagaaat agaaatt gaaattt aaatttg aatttgt atttgtg tttgtgg ttgtgga tgtggaa gtggaaa tggaaaa ggaaaaa gaaaaaa aaaaaag aaaaagg aaaaggc aaaggct aaggcta aggctat ggctata gctatag ctatagg tataggt ataggta taggtac aggtaca ggtacag gtacagt tacagtg acagtgt cagtgtt agtgtta gtgttag tgttagt gttagta ttagtag tagtagg agtagga gtaggac taggacc aggaccc ggaccca gacccac acccaca cccacac ccacacc cacacct acacctg cacctgt acctgtc cctgtca ctgtcaa tgtcaac gtcaaca tcaacat caacata aacataa acataat cataatt ataattg taattgg aattgga attggaa ttggaag tggaaga ggaagaa gaagaaa aagaaat agaaatc gaaatct aaatctg aatctgt atctgtt tctgttg ctgttga tgttgac gttgact ttgactc tgactca gactcag actcagc ctcagct tcagctt cagcttg agcttgg gcttgga cttggat ttggatg tggatgc ggatgca gatgcac atgcaca tgcacac gcacact cacacta acactaa cactaaa actaaat ctaaatt taaattt aaatttt aattttc attttcc ttttcca tttccaa ttccaat tccaatt ccaatta caattag aattagt attagtc ttagtcc tagtcct agtccta gtcctat tcctatt cctattg ctattga tattgaa attgaaa ttgaaac tgaaact gaaactg aaactgt aactgta actgtac ctgtacc tgtacca gtaccag taccagt accagta ccagtaa cagtaaa agtaaaa gtaaaat taaaatt aaaatta aaattaa aattaaa attaaag ttaaagc taaagcc aaagcca aagccag agccagg gccagga ccaggaa caggaat aggaatg ggaatgg gaatgga aatggat atggatg tggatgg ggatggc gatggcc atggccc tggccca ggcccaa gcccaaa cccaaag ccaaagg caaaggt aaaggtt aaggtta aggttaa ggttaaa gttaaac ttaaaca taaacaa aaacaat aacaatg acaatgg caatggc aatggcc atggcca tggccat ggccatt gccattg ccattga cattgac attgaca ttgacag tgacaga gacagaa acagaag cagaaga agaagag gaagaga aagagaa agagaaa gagaaaa agaaaat gaaaata aaaataa aaataaa aataaaa ataaaag taaaagc aaaagca aaagcat aagcatt agcatta gcattaa cattaac attaaca ttaacag taacaga aacagaa acagaaa cagaaat agaaatt gaaattt aaatttg aatttgt atttgtg tttgtga ttgtgat tgtgatg gtgatga tgatgaa gatgaaa atgaaat tgaaatg gaaatgg aaatgga aatggag atggaga tggagaa ggagaag gagaagg agaagga gaaggaa aaggaag aggaagg ggaagga gaaggaa aaggaaa aggaaaa ggaaaaa gaaaaat aaaaatt aaaatta aaattac aattaca attacaa ttacaaa tacaaaa acaaaaa caaaaat aaaaatt aaaattg aaattgg aattggg attgggc ttgggcc tgggcct gggcctg ggcctga gcctgaa cctgaaa ctgaaaa tgaaaat gaaaatc aaaatcc aaatcca aatccat atccata tccatat ccatata catataa atataat tataata ataatac taatact aatactc atactcc tactcca actccaa ctccaat tccaata ccaatat caatatt aatattt atatttg tatttgc atttgcc tttgcca ttgccat tgccata gccataa ccataaa cataaaa ataaaaa taaaaaa aaaaaag aaaaaga aaaagaa aaagaag aagaagg agaagga gaaggac aaggaca aggacag ggacagt gacagta acagtac cagtact agtacta gtactaa tactaag actaagt ctaagtg taagtgg aagtgga agtggag gtggaga tggagaa ggagaaa gagaaaa agaaaat gaaaatt aaaatta aaattag aattagt attagta ttagtag tagtaga agtagat gtagatt tagattt agatttc gatttca atttcag tttcaga ttcagag tcagaga cagagaa agagaac gagaact agaactc gaactca aactcaa actcaat ctcaata tcaataa caataaa aataaaa ataaaag taaaaga aaaagaa aaagaac aagaact agaactc gaactca aactcaa actcaag ctcaaga tcaagat caagatt aagattt agatttt gattttt atttttg tttttgg ttttggg tttggga ttgggaa tgggaag gggaagt ggaagtc gaagtcc aagtcca agtccaa gtccaat tccaatt ccaatta caattag aattagg attagga ttaggaa taggaat aggaata ggaatac gaatacc aatacca ataccac taccaca accacac ccacacc cacaccc acaccca cacccag acccagc cccagca ccagcag cagcagg agcaggg gcagggt cagggtt agggtta gggttaa ggttaaa gttaaaa ttaaaaa taaaaaa aaaaaag aaaaaga aaaagaa aaagaat aagaata agaataa gaataaa aataaat ataaatc taaatca aaatcag aatcagt atcagtg tcagtga cagtgac agtgaca gtgacag tgacagt gacagta acagtac cagtact agtacta gtactag tactaga actagat ctagatg tagatgt agatgtg gatgtgg atgtggg tgtgggg gtggggg tggggga gggggat ggggatg gggatgc ggatgca gatgcat atgcata tgcatat gcatatt catattt atatttt tattttt atttttc tttttca ttttcag tttcagt ttcagtt tcagttc cagttcc agttcct gttcctt ttccttt tccttta cctttat ctttata tttatat ttatatg tatatga atatgaa tatgaag atgaaga tgaagat gaagatt aagattt agatttc gatttca atttcag tttcagg ttcagga tcaggaa caggaaa aggaaat ggaaata gaaatat aaatata aatatac atataca tatacag atacagc tacagca acagcat cagcatt agcattc gcattca cattcac attcacc ttcacca tcaccat caccata accatac ccatacc catacct ataccta tacctag acctagt cctagta ctagtat tagtatg agtatga gtatgaa tatgaac atgaaca tgaacaa gaacaat aacaatg acaatga caatgaa aatgaaa atgaaac tgaaaca gaaacac aaacacc aacacca acaccag caccagg accaggg ccaggga cagggat agggatt gggatta ggattag gattaga attagat ttagata tagatat agatatc gatatca atatcaa tatcaat atcaata tcaatat caatata aatataa atataat tataatg ataatgt taatgtg aatgtgc atgtgct tgtgcta gtgctac tgctacc gctaccg ctaccgc taccgca accgcag ccgcagg cgcaggg gcaggga cagggat agggatg gggatgg ggatgga gatggaa atggaaa tggaaag ggaaagg gaaagga aaaggat aaggatc aggatcg ggatcgc gatcgcc atcgcca tcgccag cgccagc gccagca ccagcaa cagcaat agcaata gcaatat caatatt aatattt atatttc tatttca atttcag tttcagt ttcagtg tcagtgt cagtgta agtgtag gtgtagc tgtagca gtagcat tagcatg agcatga gcatgac catgaca atgacaa tgacaaa gacaaaa acaaaaa caaaaat aaaaatc aaaatct aaatctt aatctta atcttag tcttaga cttagag ttagagc tagagcc agagccc gagccct agccctt gcccttt cccttta cctttag ctttagg tttagga ttaggac taggaca aggacac ggacaca gacacaa acacaaa cacaaaa acaaaat caaaatc aaaatcc aaatcca aatccag atccaga tccagaa ccagaac cagaact agaacta gaactag aactagt actagtc ctagtca tagtcat agtcatc gtcatct tcatcta catctat atctatc tctatca ctatcaa tatcaat atcaata tcaatat caatata aatatat atatatg tatatgg atatgga tatggat atggatg tggatga ggatgac gatgact atgactt tgacttg gacttgt acttgta cttgtat ttgtatg tgtatgt gtatgta tatgtag atgtagg tgtagga gtaggat taggatc aggatct ggatctg gatctga atctgac tctgacc ctgacct tgaccta gacctag acctaga cctagaa ctagaaa tagaaat agaaata gaaatag aaatagg aataggg atagggc tagggca agggcaa gggcaac ggcaaca gcaacat caacata aacatag acataga catagag atagagc tagagca agagcaa gagcaaa agcaaag gcaaaga caaagat aaagata aagatag agataga gatagaa atagaag tagaaga agaagaa gaagaat aagaatt agaatta gaattaa aattaag attaaga ttaagac taagaca aagacaa agacaac gacaaca acaacat caacatc aacatct acatctg catctgt atctgtt tctgtta ctgttaa tgttaaa gttaaag ttaaagt taaagtg aaagtgg aagtggg agtgggg gtgggga tggggat ggggatt gggattt ggattta gatttac atttacc tttacca ttaccac taccaca accacac ccacacc cacacca acaccag caccaga accagat ccagata cagataa agataag gataaga ataagaa taagaag aagaagc agaagca gaagcat aagcatc agcatca gcatcag catcaga atcagaa tcagaaa cagaaag agaaaga gaaagaa aaagaac aagaacc agaaccc gaacccc aaccccc accccct ccccctt ccccttt ccctttc cctttcc ctttcct tttcctt ttccttt tcctttg cctttgg ctttgga tttggat ttggatg tggatgg ggatgga gatggaa atggaat tggaata ggaatat gaatatg aatatga atatgag tatgagc atgagct tgagctc gagctcc agctcca gctccat ctccatc tccatcc ccatcct catcctg atcctga tcctgat cctgata ctgataa tgataaa gataaat ataaatg taaatgg aaatgga aatggac atggaca tggacag ggacagt gacagta acagtac cagtaca agtacag gtacagc tacagcc acagcct cagccta agcctat gcctata'"
            ]
          },
          "metadata": {
            "tags": []
          },
          "execution_count": 37
        }
      ]
    },
    {
      "cell_type": "code",
      "metadata": {
        "id": "pFAOie0w_8dA"
      },
      "source": [
        "# convert into count vectorizer features\r\n",
        "cv = CountVectorizer( ngram_range = (5,5))\r\n",
        "X = cv.fit_transform(data_x)"
      ],
      "execution_count": 38,
      "outputs": []
    },
    {
      "cell_type": "code",
      "metadata": {
        "id": "PU239AOAAnCM",
        "outputId": "50123db2-aeef-4101-98b8-332b9d7e46c8",
        "colab": {
          "base_uri": "https://localhost:8080/"
        }
      },
      "source": [
        "X.shape"
      ],
      "execution_count": 39,
      "outputs": [
        {
          "output_type": "execute_result",
          "data": {
            "text/plain": [
              "(23, 32932)"
            ]
          },
          "metadata": {
            "tags": []
          },
          "execution_count": 39
        }
      ]
    },
    {
      "cell_type": "code",
      "metadata": {
        "id": "kuXddO1sAusH"
      },
      "source": [
        "#split the data into train and split\r\n",
        "X_train , X_test , y_train , y_test = train_test_split(X,y, test_size = 0.2 , random_state = 42)"
      ],
      "execution_count": 40,
      "outputs": []
    },
    {
      "cell_type": "code",
      "metadata": {
        "id": "8KEpTwP9BKyO",
        "outputId": "916e365b-b5d9-43b7-ebb9-6f89a5b36369",
        "colab": {
          "base_uri": "https://localhost:8080/"
        }
      },
      "source": [
        "\r\n",
        "print(\"Shape of the training data----->\",X_train.shape)\r\n",
        "print(\"Shape of the training target data----->\",y_train.shape)\r\n",
        "print(\"Shape of the testing data----->\",X_test.shape)\r\n",
        "print(\"Shape of the testing target data----->\",y_test.shape)"
      ],
      "execution_count": 41,
      "outputs": [
        {
          "output_type": "stream",
          "text": [
            "Shape of the training data-----> (18, 32932)\n",
            "Shape of the training target data-----> (18,)\n",
            "Shape of the testing data-----> (5, 32932)\n",
            "Shape of the testing target data-----> (5,)\n"
          ],
          "name": "stdout"
        }
      ]
    },
    {
      "cell_type": "code",
      "metadata": {
        "id": "GpQRLF1ZBqV8",
        "outputId": "7262ac8f-c1d2-4389-fcc2-00b60024739a",
        "colab": {
          "base_uri": "https://localhost:8080/"
        }
      },
      "source": [
        "#train the model\r\n",
        "mNB = MultinomialNB(alpha = 0.1)\r\n",
        "mNB.fit(X_train , y_train)"
      ],
      "execution_count": 42,
      "outputs": [
        {
          "output_type": "execute_result",
          "data": {
            "text/plain": [
              "MultinomialNB(alpha=0.1, class_prior=None, fit_prior=True)"
            ]
          },
          "metadata": {
            "tags": []
          },
          "execution_count": 42
        }
      ]
    },
    {
      "cell_type": "code",
      "metadata": {
        "id": "bHwhTY7gCBGq",
        "outputId": "7694af07-9c04-4dc9-e533-05275a2326f5",
        "colab": {
          "base_uri": "https://localhost:8080/",
          "height": 408
        }
      },
      "source": [
        "y  = np.array(y)\r\n",
        "y_pred = mNB.predict(y_train)"
      ],
      "execution_count": 43,
      "outputs": [
        {
          "output_type": "error",
          "ename": "ValueError",
          "evalue": "ignored",
          "traceback": [
            "\u001b[0;31m---------------------------------------------------------------------------\u001b[0m",
            "\u001b[0;31mValueError\u001b[0m                                Traceback (most recent call last)",
            "\u001b[0;32m<ipython-input-43-72456654655d>\u001b[0m in \u001b[0;36m<module>\u001b[0;34m()\u001b[0m\n\u001b[1;32m      1\u001b[0m \u001b[0my\u001b[0m  \u001b[0;34m=\u001b[0m \u001b[0mnp\u001b[0m\u001b[0;34m.\u001b[0m\u001b[0marray\u001b[0m\u001b[0;34m(\u001b[0m\u001b[0my\u001b[0m\u001b[0;34m)\u001b[0m\u001b[0;34m\u001b[0m\u001b[0;34m\u001b[0m\u001b[0m\n\u001b[0;32m----> 2\u001b[0;31m \u001b[0my_pred\u001b[0m \u001b[0;34m=\u001b[0m \u001b[0mmNB\u001b[0m\u001b[0;34m.\u001b[0m\u001b[0mpredict\u001b[0m\u001b[0;34m(\u001b[0m\u001b[0my_train\u001b[0m\u001b[0;34m)\u001b[0m\u001b[0;34m\u001b[0m\u001b[0;34m\u001b[0m\u001b[0m\n\u001b[0m",
            "\u001b[0;32m/usr/local/lib/python3.7/dist-packages/sklearn/naive_bayes.py\u001b[0m in \u001b[0;36mpredict\u001b[0;34m(self, X)\u001b[0m\n\u001b[1;32m     74\u001b[0m         \"\"\"\n\u001b[1;32m     75\u001b[0m         \u001b[0mcheck_is_fitted\u001b[0m\u001b[0;34m(\u001b[0m\u001b[0mself\u001b[0m\u001b[0;34m)\u001b[0m\u001b[0;34m\u001b[0m\u001b[0;34m\u001b[0m\u001b[0m\n\u001b[0;32m---> 76\u001b[0;31m         \u001b[0mX\u001b[0m \u001b[0;34m=\u001b[0m \u001b[0mself\u001b[0m\u001b[0;34m.\u001b[0m\u001b[0m_check_X\u001b[0m\u001b[0;34m(\u001b[0m\u001b[0mX\u001b[0m\u001b[0;34m)\u001b[0m\u001b[0;34m\u001b[0m\u001b[0;34m\u001b[0m\u001b[0m\n\u001b[0m\u001b[1;32m     77\u001b[0m         \u001b[0mjll\u001b[0m \u001b[0;34m=\u001b[0m \u001b[0mself\u001b[0m\u001b[0;34m.\u001b[0m\u001b[0m_joint_log_likelihood\u001b[0m\u001b[0;34m(\u001b[0m\u001b[0mX\u001b[0m\u001b[0;34m)\u001b[0m\u001b[0;34m\u001b[0m\u001b[0;34m\u001b[0m\u001b[0m\n\u001b[1;32m     78\u001b[0m         \u001b[0;32mreturn\u001b[0m \u001b[0mself\u001b[0m\u001b[0;34m.\u001b[0m\u001b[0mclasses_\u001b[0m\u001b[0;34m[\u001b[0m\u001b[0mnp\u001b[0m\u001b[0;34m.\u001b[0m\u001b[0margmax\u001b[0m\u001b[0;34m(\u001b[0m\u001b[0mjll\u001b[0m\u001b[0;34m,\u001b[0m \u001b[0maxis\u001b[0m\u001b[0;34m=\u001b[0m\u001b[0;36m1\u001b[0m\u001b[0;34m)\u001b[0m\u001b[0;34m]\u001b[0m\u001b[0;34m\u001b[0m\u001b[0;34m\u001b[0m\u001b[0m\n",
            "\u001b[0;32m/usr/local/lib/python3.7/dist-packages/sklearn/naive_bayes.py\u001b[0m in \u001b[0;36m_check_X\u001b[0;34m(self, X)\u001b[0m\n\u001b[1;32m    470\u001b[0m \u001b[0;34m\u001b[0m\u001b[0m\n\u001b[1;32m    471\u001b[0m     \u001b[0;32mdef\u001b[0m \u001b[0m_check_X\u001b[0m\u001b[0;34m(\u001b[0m\u001b[0mself\u001b[0m\u001b[0;34m,\u001b[0m \u001b[0mX\u001b[0m\u001b[0;34m)\u001b[0m\u001b[0;34m:\u001b[0m\u001b[0;34m\u001b[0m\u001b[0;34m\u001b[0m\u001b[0m\n\u001b[0;32m--> 472\u001b[0;31m         \u001b[0;32mreturn\u001b[0m \u001b[0mcheck_array\u001b[0m\u001b[0;34m(\u001b[0m\u001b[0mX\u001b[0m\u001b[0;34m,\u001b[0m \u001b[0maccept_sparse\u001b[0m\u001b[0;34m=\u001b[0m\u001b[0;34m'csr'\u001b[0m\u001b[0;34m)\u001b[0m\u001b[0;34m\u001b[0m\u001b[0;34m\u001b[0m\u001b[0m\n\u001b[0m\u001b[1;32m    473\u001b[0m \u001b[0;34m\u001b[0m\u001b[0m\n\u001b[1;32m    474\u001b[0m     \u001b[0;32mdef\u001b[0m \u001b[0m_check_X_y\u001b[0m\u001b[0;34m(\u001b[0m\u001b[0mself\u001b[0m\u001b[0;34m,\u001b[0m \u001b[0mX\u001b[0m\u001b[0;34m,\u001b[0m \u001b[0my\u001b[0m\u001b[0;34m)\u001b[0m\u001b[0;34m:\u001b[0m\u001b[0;34m\u001b[0m\u001b[0;34m\u001b[0m\u001b[0m\n",
            "\u001b[0;32m/usr/local/lib/python3.7/dist-packages/sklearn/utils/validation.py\u001b[0m in \u001b[0;36mcheck_array\u001b[0;34m(array, accept_sparse, accept_large_sparse, dtype, order, copy, force_all_finite, ensure_2d, allow_nd, ensure_min_samples, ensure_min_features, warn_on_dtype, estimator)\u001b[0m\n\u001b[1;32m    554\u001b[0m                     \u001b[0;34m\"Reshape your data either using array.reshape(-1, 1) if \"\u001b[0m\u001b[0;34m\u001b[0m\u001b[0;34m\u001b[0m\u001b[0m\n\u001b[1;32m    555\u001b[0m                     \u001b[0;34m\"your data has a single feature or array.reshape(1, -1) \"\u001b[0m\u001b[0;34m\u001b[0m\u001b[0;34m\u001b[0m\u001b[0m\n\u001b[0;32m--> 556\u001b[0;31m                     \"if it contains a single sample.\".format(array))\n\u001b[0m\u001b[1;32m    557\u001b[0m \u001b[0;34m\u001b[0m\u001b[0m\n\u001b[1;32m    558\u001b[0m         \u001b[0;31m# in the future np.flexible dtypes will be handled like object dtypes\u001b[0m\u001b[0;34m\u001b[0m\u001b[0;34m\u001b[0m\u001b[0;34m\u001b[0m\u001b[0m\n",
            "\u001b[0;31mValueError\u001b[0m: Expected 2D array, got 1D array instead:\narray=[1 1 0 1 1 1 0 1 1 0 0 0 0 1 1 0 0 1].\nReshape your data either using array.reshape(-1, 1) if your data has a single feature or array.reshape(1, -1) if it contains a single sample."
          ]
        }
      ]
    },
    {
      "cell_type": "code",
      "metadata": {
        "id": "ZiWX3XZJCGaM"
      },
      "source": [
        ""
      ],
      "execution_count": null,
      "outputs": []
    }
  ]
}