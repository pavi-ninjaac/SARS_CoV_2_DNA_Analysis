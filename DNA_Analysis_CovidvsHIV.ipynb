{
  "nbformat": 4,
  "nbformat_minor": 0,
  "metadata": {
    "colab": {
      "name": "DNA_Analysis_CovidvsHIV",
      "provenance": [],
      "toc_visible": true,
      "mount_file_id": "1Z4HVF7ExfnYTKYTwj4vxdn3xzi5CwNI5",
      "authorship_tag": "ABX9TyOtApNy96J/aJKn2bDr21il",
      "include_colab_link": true
    },
    "kernelspec": {
      "name": "python3",
      "display_name": "Python 3"
    }
  },
  "cells": [
    {
      "cell_type": "markdown",
      "metadata": {
        "id": "view-in-github",
        "colab_type": "text"
      },
      "source": [
        "<a href=\"https://colab.research.google.com/github/pavi-ninjaac/SARS_CoV_2_DNA_Analysis/blob/main/DNA_Analysis_CovidvsHIV.ipynb\" target=\"_parent\"><img src=\"https://colab.research.google.com/assets/colab-badge.svg\" alt=\"Open In Colab\"/></a>"
      ]
    },
    {
      "cell_type": "markdown",
      "metadata": {
        "id": "V3v_7SIKHd7c"
      },
      "source": [
        "# DNA Classification - COVID19 vs HIV"
      ]
    },
    {
      "cell_type": "code",
      "metadata": {
        "colab": {
          "base_uri": "https://localhost:8080/"
        },
        "id": "Xb_3tc3gH8p5",
        "outputId": "12f80762-e24d-48b9-eb8d-d4cbcd361708"
      },
      "source": [
        "! pip install Bio"
      ],
      "execution_count": 2,
      "outputs": [
        {
          "output_type": "stream",
          "text": [
            "Collecting Bio\n",
            "\u001b[?25l  Downloading https://files.pythonhosted.org/packages/83/ec/efbae4632107776961f4a1d3607117a4412b9e798609956c664e9c0157f4/bio-0.3.0-py3-none-any.whl (70kB)\n",
            "\u001b[K     |████████████████████████████████| 71kB 3.2MB/s \n",
            "\u001b[?25hCollecting biopython>=1.78\n",
            "\u001b[?25l  Downloading https://files.pythonhosted.org/packages/76/02/8b606c4aa92ff61b5eda71d23b499ab1de57d5e818be33f77b01a6f435a8/biopython-1.78-cp36-cp36m-manylinux1_x86_64.whl (2.3MB)\n",
            "\u001b[K     |████████████████████████████████| 2.3MB 7.0MB/s \n",
            "\u001b[?25hRequirement already satisfied: requests in /usr/local/lib/python3.6/dist-packages (from Bio) (2.23.0)\n",
            "Requirement already satisfied: pytest in /usr/local/lib/python3.6/dist-packages (from Bio) (3.6.4)\n",
            "Requirement already satisfied: numpy in /usr/local/lib/python3.6/dist-packages (from biopython>=1.78->Bio) (1.19.5)\n",
            "Requirement already satisfied: chardet<4,>=3.0.2 in /usr/local/lib/python3.6/dist-packages (from requests->Bio) (3.0.4)\n",
            "Requirement already satisfied: urllib3!=1.25.0,!=1.25.1,<1.26,>=1.21.1 in /usr/local/lib/python3.6/dist-packages (from requests->Bio) (1.24.3)\n",
            "Requirement already satisfied: idna<3,>=2.5 in /usr/local/lib/python3.6/dist-packages (from requests->Bio) (2.10)\n",
            "Requirement already satisfied: certifi>=2017.4.17 in /usr/local/lib/python3.6/dist-packages (from requests->Bio) (2020.12.5)\n",
            "Requirement already satisfied: attrs>=17.4.0 in /usr/local/lib/python3.6/dist-packages (from pytest->Bio) (20.3.0)\n",
            "Requirement already satisfied: py>=1.5.0 in /usr/local/lib/python3.6/dist-packages (from pytest->Bio) (1.10.0)\n",
            "Requirement already satisfied: setuptools in /usr/local/lib/python3.6/dist-packages (from pytest->Bio) (51.3.3)\n",
            "Requirement already satisfied: pluggy<0.8,>=0.5 in /usr/local/lib/python3.6/dist-packages (from pytest->Bio) (0.7.1)\n",
            "Requirement already satisfied: more-itertools>=4.0.0 in /usr/local/lib/python3.6/dist-packages (from pytest->Bio) (8.6.0)\n",
            "Requirement already satisfied: atomicwrites>=1.0 in /usr/local/lib/python3.6/dist-packages (from pytest->Bio) (1.4.0)\n",
            "Requirement already satisfied: six>=1.10.0 in /usr/local/lib/python3.6/dist-packages (from pytest->Bio) (1.15.0)\n",
            "Installing collected packages: biopython, Bio\n",
            "Successfully installed Bio-0.3.0 biopython-1.78\n"
          ],
          "name": "stdout"
        }
      ]
    },
    {
      "cell_type": "code",
      "metadata": {
        "id": "7TotgLPFHEtL"
      },
      "source": [
        "#import libraries\r\n",
        "import pandas as pd\r\n",
        "import numpy as np\r\n",
        "import matplotlib.pyplot as plt\r\n",
        "import seaborn as sns\r\n",
        "\r\n",
        "#for fasta file handling \r\n",
        "from Bio import SeqIO"
      ],
      "execution_count": 3,
      "outputs": []
    },
    {
      "cell_type": "code",
      "metadata": {
        "id": "TBScLIoOH4lA"
      },
      "source": [
        "def generate_data(file_list):\r\n",
        "  X = []\r\n",
        "  y = []\r\n",
        "  label = 1 # for hiv\r\n",
        "  for i in file_list:\r\n",
        "    filepath = '/content/drive/MyDrive/Colab Notebooks/dataFiles/DNA_Genome_Analysis_covid19/'+i+'.fasta'\r\n",
        "    records = list(SeqIO.parse(filepath , 'fasta'))\r\n",
        "\r\n",
        "    for index in range(len(records)):\r\n",
        "      X.append(str(records[index].seq))\r\n",
        "      y.append(label)\r\n",
        "    label = 0 #for covid19\r\n",
        "  \r\n",
        "  data = pd.DataFrame({'DNASequence' : X , 'label' : y})\r\n",
        "\r\n",
        "  return data"
      ],
      "execution_count": 8,
      "outputs": []
    },
    {
      "cell_type": "code",
      "metadata": {
        "colab": {
          "base_uri": "https://localhost:8080/",
          "height": 191
        },
        "id": "TZO4_1yPMmuc",
        "outputId": "6e4e575c-3a5f-4ad8-9c96-0b7effa07e4a"
      },
      "source": [
        "file_list = ['HIV' , 'covid19']\r\n",
        "data = generate_data(file_list)\r\n",
        "data.head(5)"
      ],
      "execution_count": 9,
      "outputs": [
        {
          "output_type": "execute_result",
          "data": {
            "text/html": [
              "<div>\n",
              "<style scoped>\n",
              "    .dataframe tbody tr th:only-of-type {\n",
              "        vertical-align: middle;\n",
              "    }\n",
              "\n",
              "    .dataframe tbody tr th {\n",
              "        vertical-align: top;\n",
              "    }\n",
              "\n",
              "    .dataframe thead th {\n",
              "        text-align: right;\n",
              "    }\n",
              "</style>\n",
              "<table border=\"1\" class=\"dataframe\">\n",
              "  <thead>\n",
              "    <tr style=\"text-align: right;\">\n",
              "      <th></th>\n",
              "      <th>DNASequence</th>\n",
              "      <th>label</th>\n",
              "    </tr>\n",
              "  </thead>\n",
              "  <tbody>\n",
              "    <tr>\n",
              "      <th>0</th>\n",
              "      <td>CCTCAAATCACTCTTTGGCAGCGACCCCTGGTCTCAATAAAAGTAG...</td>\n",
              "      <td>1</td>\n",
              "    </tr>\n",
              "    <tr>\n",
              "      <th>1</th>\n",
              "      <td>CCTCAAATCACTCTTTGGCAGCGACCCCTGGTCTCAATAAAAGTAG...</td>\n",
              "      <td>1</td>\n",
              "    </tr>\n",
              "    <tr>\n",
              "      <th>2</th>\n",
              "      <td>CCTCAAATCACTCTTTGGCAGCGACCCCTGGTCCCAATAAAAGTAG...</td>\n",
              "      <td>1</td>\n",
              "    </tr>\n",
              "    <tr>\n",
              "      <th>3</th>\n",
              "      <td>CCTCAAATCACTCTTTGGCAGCGACCCCTGGTCTCAATAAAAGTAG...</td>\n",
              "      <td>1</td>\n",
              "    </tr>\n",
              "    <tr>\n",
              "      <th>4</th>\n",
              "      <td>CCTCAAATCACTCTTTGGCAGCGACCCCTGGTCYCAATAAAAGTAG...</td>\n",
              "      <td>1</td>\n",
              "    </tr>\n",
              "  </tbody>\n",
              "</table>\n",
              "</div>"
            ],
            "text/plain": [
              "                                         DNASequence  label\n",
              "0  CCTCAAATCACTCTTTGGCAGCGACCCCTGGTCTCAATAAAAGTAG...      1\n",
              "1  CCTCAAATCACTCTTTGGCAGCGACCCCTGGTCTCAATAAAAGTAG...      1\n",
              "2  CCTCAAATCACTCTTTGGCAGCGACCCCTGGTCCCAATAAAAGTAG...      1\n",
              "3  CCTCAAATCACTCTTTGGCAGCGACCCCTGGTCTCAATAAAAGTAG...      1\n",
              "4  CCTCAAATCACTCTTTGGCAGCGACCCCTGGTCYCAATAAAAGTAG...      1"
            ]
          },
          "metadata": {
            "tags": []
          },
          "execution_count": 9
        }
      ]
    },
    {
      "cell_type": "markdown",
      "metadata": {
        "id": "9vBEt2BPNmVA"
      },
      "source": [
        "# Category analysis"
      ]
    },
    {
      "cell_type": "code",
      "metadata": {
        "colab": {
          "base_uri": "https://localhost:8080/",
          "height": 281
        },
        "id": "JmF0v7fgNlw-",
        "outputId": "f379c03b-e978-45d3-8d40-927dea6fd640"
      },
      "source": [
        "category = data['label'].value_counts()\r\n",
        "sns.barplot(x=category.index,y=category.values)"
      ],
      "execution_count": 16,
      "outputs": [
        {
          "output_type": "execute_result",
          "data": {
            "text/plain": [
              "<matplotlib.axes._subplots.AxesSubplot at 0x7ff391caec50>"
            ]
          },
          "metadata": {
            "tags": []
          },
          "execution_count": 16
        },
        {
          "output_type": "display_data",
          "data": {
            "image/png": "[encoded data removed]",
            "text/plain": [
              "<Figure size 432x288 with 1 Axes>"
            ]
          },
          "metadata": {
            "tags": [],
            "needs_background": "light"
          }
        }
      ]
    },
    {
      "cell_type": "code",
      "metadata": {
        "id": "-2AhexRYNWvv"
      },
      "source": [
        ""
      ],
      "execution_count": null,
      "outputs": []
    }
  ]
}