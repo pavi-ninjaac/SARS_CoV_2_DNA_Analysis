{
  "nbformat": 4,
  "nbformat_minor": 0,
  "metadata": {
    "colab": {
      "name": "CGR_Classification_HIVvscovid",
      "provenance": [],
      "toc_visible": true,
      "mount_file_id": "1lgsg2LBNGqRUDNvQgjyBEAIVnls5nhuL",
      "authorship_tag": "ABX9TyOBF/C2crhdN71hsDttLJrs",
      "include_colab_link": true
    },
    "kernelspec": {
      "name": "python3",
      "display_name": "Python 3"
    }
  },
  "cells": [
    {
      "cell_type": "markdown",
      "metadata": {
        "id": "view-in-github",
        "colab_type": "text"
      },
      "source": [
        "<a href=\"https://colab.research.google.com/github/pavi-ninjaac/SARS_CoV_2_DNA_Analysis/blob/main/CGR_Classification_HIVvscovid.ipynb\" target=\"_parent\"><img src=\"https://colab.research.google.com/assets/colab-badge.svg\" alt=\"Open In Colab\"/></a>"
      ]
    },
    {
      "cell_type": "markdown",
      "metadata": {
        "id": "Sujn3I5pj1lq"
      },
      "source": [
        "# DNA Classification using CGR"
      ]
    },
    {
      "cell_type": "code",
      "metadata": {
        "colab": {
          "base_uri": "https://localhost:8080/"
        },
        "id": "2ELxwLJyjvgw",
        "outputId": "292248b4-f7bc-4399-9624-ead25cc10ac1"
      },
      "source": [
        "! pip install Bio"
      ],
      "execution_count": 2,
      "outputs": [
        {
          "output_type": "stream",
          "text": [
            "Collecting Bio\n",
            "\u001b[?25l  Downloading https://files.pythonhosted.org/packages/83/ec/efbae4632107776961f4a1d3607117a4412b9e798609956c664e9c0157f4/bio-0.3.0-py3-none-any.whl (70kB)\n",
            "\u001b[K     |████████████████████████████████| 71kB 5.5MB/s \n",
            "\u001b[?25hCollecting biopython>=1.78\n",
            "\u001b[?25l  Downloading https://files.pythonhosted.org/packages/3a/cd/0098eaff841850c01da928c7f509b72fd3e1f51d77b772e24de9e2312471/biopython-1.78-cp37-cp37m-manylinux1_x86_64.whl (2.3MB)\n",
            "\u001b[K     |████████████████████████████████| 2.3MB 11.3MB/s \n",
            "\u001b[?25hRequirement already satisfied: pytest in /usr/local/lib/python3.7/dist-packages (from Bio) (3.6.4)\n",
            "Requirement already satisfied: requests in /usr/local/lib/python3.7/dist-packages (from Bio) (2.23.0)\n",
            "Requirement already satisfied: numpy in /usr/local/lib/python3.7/dist-packages (from biopython>=1.78->Bio) (1.19.5)\n",
            "Requirement already satisfied: atomicwrites>=1.0 in /usr/local/lib/python3.7/dist-packages (from pytest->Bio) (1.4.0)\n",
            "Requirement already satisfied: py>=1.5.0 in /usr/local/lib/python3.7/dist-packages (from pytest->Bio) (1.10.0)\n",
            "Requirement already satisfied: attrs>=17.4.0 in /usr/local/lib/python3.7/dist-packages (from pytest->Bio) (20.3.0)\n",
            "Requirement already satisfied: pluggy<0.8,>=0.5 in /usr/local/lib/python3.7/dist-packages (from pytest->Bio) (0.7.1)\n",
            "Requirement already satisfied: setuptools in /usr/local/lib/python3.7/dist-packages (from pytest->Bio) (53.0.0)\n",
            "Requirement already satisfied: six>=1.10.0 in /usr/local/lib/python3.7/dist-packages (from pytest->Bio) (1.15.0)\n",
            "Requirement already satisfied: more-itertools>=4.0.0 in /usr/local/lib/python3.7/dist-packages (from pytest->Bio) (8.7.0)\n",
            "Requirement already satisfied: idna<3,>=2.5 in /usr/local/lib/python3.7/dist-packages (from requests->Bio) (2.10)\n",
            "Requirement already satisfied: certifi>=2017.4.17 in /usr/local/lib/python3.7/dist-packages (from requests->Bio) (2020.12.5)\n",
            "Requirement already satisfied: chardet<4,>=3.0.2 in /usr/local/lib/python3.7/dist-packages (from requests->Bio) (3.0.4)\n",
            "Requirement already satisfied: urllib3!=1.25.0,!=1.25.1,<1.26,>=1.21.1 in /usr/local/lib/python3.7/dist-packages (from requests->Bio) (1.24.3)\n",
            "Installing collected packages: biopython, Bio\n",
            "Successfully installed Bio-0.3.0 biopython-1.78\n"
          ],
          "name": "stdout"
        }
      ]
    },
    {
      "cell_type": "code",
      "metadata": {
        "id": "DSxDyei0kN5k"
      },
      "source": [
        "from Bio import SeqIO\r\n",
        "import numpy as np\r\n",
        "import pandas as pd\r\n",
        "from collections import defaultdict\r\n",
        "import math\r\n",
        "import matplotlib.pyplot as plt\r\n",
        "from matplotlib import cm"
      ],
      "execution_count": 15,
      "outputs": []
    },
    {
      "cell_type": "code",
      "metadata": {
        "id": "PsXZiNcmk_cn"
      },
      "source": [
        "def generate_data(file_list):\r\n",
        "  X = []\r\n",
        "  y = []\r\n",
        "  label = 1 # for hiv\r\n",
        "  for i in file_list:\r\n",
        "    filepath = '/content/drive/MyDrive/Colab Notebooks/dataFiles/DNA_Genome_Analysis_covid19/'+i+'.fasta'\r\n",
        "    records = list(SeqIO.parse(filepath , 'fasta'))\r\n",
        "\r\n",
        "    for index in range(len(records)):\r\n",
        "      X.append(str(records[index].seq))\r\n",
        "      y.append(label)\r\n",
        "    label = 0 #for covid19\r\n",
        "  \r\n",
        "  data = pd.DataFrame({'DNASequence' : X , 'label' : y})\r\n",
        "\r\n",
        "  return data"
      ],
      "execution_count": 5,
      "outputs": []
    },
    {
      "cell_type": "code",
      "metadata": {
        "colab": {
          "base_uri": "https://localhost:8080/",
          "height": 204
        },
        "id": "uihWQS7ZlDaO",
        "outputId": "f6174e2f-b020-445c-ab0c-49d9e0a8c94a"
      },
      "source": [
        "file_list = ['HIV' , 'covid19']\r\n",
        "data = generate_data(file_list)\r\n",
        "data.head(5)"
      ],
      "execution_count": 6,
      "outputs": [
        {
          "output_type": "execute_result",
          "data": {
            "text/html": [
              "<div>\n",
              "<style scoped>\n",
              "    .dataframe tbody tr th:only-of-type {\n",
              "        vertical-align: middle;\n",
              "    }\n",
              "\n",
              "    .dataframe tbody tr th {\n",
              "        vertical-align: top;\n",
              "    }\n",
              "\n",
              "    .dataframe thead th {\n",
              "        text-align: right;\n",
              "    }\n",
              "</style>\n",
              "<table border=\"1\" class=\"dataframe\">\n",
              "  <thead>\n",
              "    <tr style=\"text-align: right;\">\n",
              "      <th></th>\n",
              "      <th>DNASequence</th>\n",
              "      <th>label</th>\n",
              "    </tr>\n",
              "  </thead>\n",
              "  <tbody>\n",
              "    <tr>\n",
              "      <th>0</th>\n",
              "      <td>CCTCAAATCACTCTTTGGCAGCGACCCCTGGTCTCAATAAAAGTAG...</td>\n",
              "      <td>1</td>\n",
              "    </tr>\n",
              "    <tr>\n",
              "      <th>1</th>\n",
              "      <td>CCTCAAATCACTCTTTGGCAGCGACCCCTGGTCTCAATAAAAGTAG...</td>\n",
              "      <td>1</td>\n",
              "    </tr>\n",
              "    <tr>\n",
              "      <th>2</th>\n",
              "      <td>CCTCAAATCACTCTTTGGCAGCGACCCCTGGTCCCAATAAAAGTAG...</td>\n",
              "      <td>1</td>\n",
              "    </tr>\n",
              "    <tr>\n",
              "      <th>3</th>\n",
              "      <td>CCTCAAATCACTCTTTGGCAGCGACCCCTGGTCTCAATAAAAGTAG...</td>\n",
              "      <td>1</td>\n",
              "    </tr>\n",
              "    <tr>\n",
              "      <th>4</th>\n",
              "      <td>CCTCAAATCACTCTTTGGCAGCGACCCCTGGTCYCAATAAAAGTAG...</td>\n",
              "      <td>1</td>\n",
              "    </tr>\n",
              "  </tbody>\n",
              "</table>\n",
              "</div>"
            ],
            "text/plain": [
              "                                         DNASequence  label\n",
              "0  CCTCAAATCACTCTTTGGCAGCGACCCCTGGTCTCAATAAAAGTAG...      1\n",
              "1  CCTCAAATCACTCTTTGGCAGCGACCCCTGGTCTCAATAAAAGTAG...      1\n",
              "2  CCTCAAATCACTCTTTGGCAGCGACCCCTGGTCCCAATAAAAGTAG...      1\n",
              "3  CCTCAAATCACTCTTTGGCAGCGACCCCTGGTCTCAATAAAAGTAG...      1\n",
              "4  CCTCAAATCACTCTTTGGCAGCGACCCCTGGTCYCAATAAAAGTAG...      1"
            ]
          },
          "metadata": {
            "tags": []
          },
          "execution_count": 6
        }
      ]
    },
    {
      "cell_type": "code",
      "metadata": {
        "colab": {
          "base_uri": "https://localhost:8080/"
        },
        "id": "OKjfqXezlEc-",
        "outputId": "053eea1e-c687-4b83-e875-d3e4150f1359"
      },
      "source": [
        "def kmer_count(data , k):\r\n",
        "  N = len(data)\r\n",
        "\r\n",
        "  d = defaultdict(int)\r\n",
        "  for i in range(N - (k-1)):\r\n",
        "    d[data[ i : i+k ]] += 1\r\n",
        "  for key in d.keys():\r\n",
        "    if 'N' in key:\r\n",
        "      del d[key]\r\n",
        "  return d\r\n",
        "\r\n",
        "  #get the propability of the kmers\r\n",
        "def propability_kmer( data_df , k):\r\n",
        "  length = len(data_df)\r\n",
        "\r\n",
        "  #loop over the dataset\r\n",
        "  for i in range(length):\r\n",
        "\r\n",
        "    data = data_df.iloc[i,0]\r\n",
        "    \r\n",
        "    kmer_count_dict = kmer_count(data , k)\r\n",
        "\r\n",
        "    #initializing the global values\r\n",
        "    N = len(data)\r\n",
        "    total_len_kemrs = N - k + 1\r\n",
        "\r\n",
        "    #get the propability of the frequency\r\n",
        "    prop = defaultdict(float)\r\n",
        "    for key,value in kmer_count_dict.items():\r\n",
        "      prop[key] = float(value) / total_len_kemrs #n(A)/P(s)\r\n",
        "    \r\n",
        "   \r\n"
      ],
      "execution_count": 14,
      "outputs": [
        {
          "output_type": "execute_result",
          "data": {
            "text/plain": [
              "1029"
            ]
          },
          "metadata": {
            "tags": []
          },
          "execution_count": 14
        }
      ]
    },
    {
      "cell_type": "code",
      "metadata": {
        "id": "OzIHQrSMl6hm"
      },
      "source": [
        ""
      ],
      "execution_count": null,
      "outputs": []
    }
  ]
}