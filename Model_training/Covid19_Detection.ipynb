{
  "nbformat": 4,
  "nbformat_minor": 0,
  "metadata": {
    "colab": {
      "name": "Covid19_Detection",
      "provenance": [],
      "authorship_tag": "ABX9TyNT/oAHNjRE7FBk+IMhye4Y",
      "include_colab_link": true
    },
    "kernelspec": {
      "name": "python3",
      "display_name": "Python 3"
    }
  },
  "cells": [
    {
      "cell_type": "markdown",
      "metadata": {
        "id": "view-in-github",
        "colab_type": "text"
      },
      "source": [
        "<a href=\"https://colab.research.google.com/github/pavi-ninjaac/SARS_CoV_2_DNA_Analysis/blob/main/Model_training/Covid19_Detection.ipynb\" target=\"_parent\"><img src=\"https://colab.research.google.com/assets/colab-badge.svg\" alt=\"Open In Colab\"/></a>"
      ]
    },
    {
      "cell_type": "markdown",
      "metadata": {
        "id": "KH6HWwmNN6H1"
      },
      "source": [
        "# Covid19 Image training"
      ]
    },
    {
      "cell_type": "code",
      "metadata": {
        "id": "MeYt926zN4Vl"
      },
      "source": [
        "#import the libraries\r\n",
        "import pandas as pd\r\n",
        "import numpy as np\r\n",
        "import matplotlib.pyplot as plt\r\n",
        "import seaborn as sns\r\n",
        "import itertools\r\n",
        "import cv2\r\n",
        "from PIL import Image\r\n",
        "#keras \r\n",
        "from keras.utils.np_utils import to_categorical\r\n",
        "from keras.callbacks import EarlyStopping,ReduceLROnPlateau\r\n",
        "from keras.models import load_model\r\n",
        "from keras.preprocessing import image\r\n",
        "from sklearn.metrics import confusion_matrix\r\n",
        "\r\n",
        "#keras layers\r\n",
        "from keras.models import Sequential \r\n",
        "from keras.layers import Conv2D,MaxPooling2D,BatchNormalization,AveragePooling2D\r\n",
        "from keras.layers import Flatten,Dropout,Dense"
      ],
      "execution_count": 1,
      "outputs": []
    },
    {
      "cell_type": "code",
      "metadata": {
        "id": "BwkwZnZcOR5p"
      },
      "source": [
        ""
      ],
      "execution_count": null,
      "outputs": []
    }
  ]
}