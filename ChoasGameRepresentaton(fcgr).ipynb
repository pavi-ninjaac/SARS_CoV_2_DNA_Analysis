{
  "nbformat": 4,
  "nbformat_minor": 0,
  "metadata": {
    "colab": {
      "name": "ChoasGameRepresentaton(fcgr)",
      "provenance": [],
      "collapsed_sections": [],
      "mount_file_id": "1ymg6dbK7r1ibqPmnUycvrYjCU4cNwrq8",
      "authorship_tag": "ABX9TyPhzx02gqoLUG5uGbH+8LNA",
      "include_colab_link": true
    },
    "kernelspec": {
      "name": "python3",
      "display_name": "Python 3"
    }
  },
  "cells": [
    {
      "cell_type": "markdown",
      "metadata": {
        "id": "view-in-github",
        "colab_type": "text"
      },
      "source": [
        "<a href=\"https://colab.research.google.com/github/pavi-ninjaac/SARS_CoV_2_DNA_Analysis/blob/main/ChoasGameRepresentaton(fcgr).ipynb\" target=\"_parent\"><img src=\"https://colab.research.google.com/assets/colab-badge.svg\" alt=\"Open In Colab\"/></a>"
      ]
    },
    {
      "cell_type": "markdown",
      "metadata": {
        "id": "XSBiA_wjGM5w"
      },
      "source": [
        "# Choas Game Representation image"
      ]
    },
    {
      "cell_type": "code",
      "metadata": {
        "colab": {
          "base_uri": "https://localhost:8080/"
        },
        "id": "yV7-OW5aGLO7",
        "outputId": "c55fbf07-8248-40fd-c120-a37e9b401fbd"
      },
      "source": [
        "! pip install Bio"
      ],
      "execution_count": 1,
      "outputs": [
        {
          "output_type": "stream",
          "text": [
            "Collecting Bio\n",
            "\u001b[?25l  Downloading https://files.pythonhosted.org/packages/83/ec/efbae4632107776961f4a1d3607117a4412b9e798609956c664e9c0157f4/bio-0.3.0-py3-none-any.whl (70kB)\n",
            "\r\u001b[K     |████▋                           | 10kB 16.8MB/s eta 0:00:01\r\u001b[K     |█████████▎                      | 20kB 20.3MB/s eta 0:00:01\r\u001b[K     |██████████████                  | 30kB 11.6MB/s eta 0:00:01\r\u001b[K     |██████████████████▋             | 40kB 9.3MB/s eta 0:00:01\r\u001b[K     |███████████████████████▎        | 51kB 8.0MB/s eta 0:00:01\r\u001b[K     |████████████████████████████    | 61kB 7.0MB/s eta 0:00:01\r\u001b[K     |████████████████████████████████| 71kB 4.9MB/s \n",
            "\u001b[?25hRequirement already satisfied: requests in /usr/local/lib/python3.7/dist-packages (from Bio) (2.23.0)\n",
            "Collecting biopython>=1.78\n",
            "\u001b[?25l  Downloading https://files.pythonhosted.org/packages/3a/cd/0098eaff841850c01da928c7f509b72fd3e1f51d77b772e24de9e2312471/biopython-1.78-cp37-cp37m-manylinux1_x86_64.whl (2.3MB)\n",
            "\u001b[K     |████████████████████████████████| 2.3MB 10.6MB/s \n",
            "\u001b[?25hRequirement already satisfied: pytest in /usr/local/lib/python3.7/dist-packages (from Bio) (3.6.4)\n",
            "Requirement already satisfied: chardet<4,>=3.0.2 in /usr/local/lib/python3.7/dist-packages (from requests->Bio) (3.0.4)\n",
            "Requirement already satisfied: urllib3!=1.25.0,!=1.25.1,<1.26,>=1.21.1 in /usr/local/lib/python3.7/dist-packages (from requests->Bio) (1.24.3)\n",
            "Requirement already satisfied: idna<3,>=2.5 in /usr/local/lib/python3.7/dist-packages (from requests->Bio) (2.10)\n",
            "Requirement already satisfied: certifi>=2017.4.17 in /usr/local/lib/python3.7/dist-packages (from requests->Bio) (2020.12.5)\n",
            "Requirement already satisfied: numpy in /usr/local/lib/python3.7/dist-packages (from biopython>=1.78->Bio) (1.19.5)\n",
            "Requirement already satisfied: setuptools in /usr/local/lib/python3.7/dist-packages (from pytest->Bio) (53.0.0)\n",
            "Requirement already satisfied: atomicwrites>=1.0 in /usr/local/lib/python3.7/dist-packages (from pytest->Bio) (1.4.0)\n",
            "Requirement already satisfied: pluggy<0.8,>=0.5 in /usr/local/lib/python3.7/dist-packages (from pytest->Bio) (0.7.1)\n",
            "Requirement already satisfied: py>=1.5.0 in /usr/local/lib/python3.7/dist-packages (from pytest->Bio) (1.10.0)\n",
            "Requirement already satisfied: six>=1.10.0 in /usr/local/lib/python3.7/dist-packages (from pytest->Bio) (1.15.0)\n",
            "Requirement already satisfied: attrs>=17.4.0 in /usr/local/lib/python3.7/dist-packages (from pytest->Bio) (20.3.0)\n",
            "Requirement already satisfied: more-itertools>=4.0.0 in /usr/local/lib/python3.7/dist-packages (from pytest->Bio) (8.7.0)\n",
            "Installing collected packages: biopython, Bio\n",
            "Successfully installed Bio-0.3.0 biopython-1.78\n"
          ],
          "name": "stdout"
        }
      ]
    },
    {
      "cell_type": "code",
      "metadata": {
        "id": "WpePIPNHHHJ1"
      },
      "source": [
        "from Bio import SeqIO\r\n",
        "from collections import defaultdict\r\n",
        "import math\r\n",
        "\r\n",
        "#vsualization\r\n",
        "from matplotlib import pyplot as plt\r\n",
        "from matplotlib import cm\r\n",
        "import pylab"
      ],
      "execution_count": 35,
      "outputs": []
    },
    {
      "cell_type": "code",
      "metadata": {
        "colab": {
          "base_uri": "https://localhost:8080/"
        },
        "id": "iYiB1TyWHRTr",
        "outputId": "e4801e6c-73b8-4c7f-f5fc-9580abc3e923"
      },
      "source": [
        "filepath = '/content/drive/MyDrive/Colab Notebooks/dataFiles/DNA_Genome_Analysis_covid19/HIV.fasta'\r\n",
        "records = list(SeqIO.parse(filepath , 'fasta' ))\r\n",
        "records[0]"
      ],
      "execution_count": 5,
      "outputs": [
        {
          "output_type": "execute_result",
          "data": {
            "text/plain": [
              "SeqRecord(seq=Seq('CCTCAAATCACTCTTTGGCAGCGACCCCTGGTCTCAATAAAAGTAGGGGGCCAG...ATA'), id='MW016009.1', name='MW016009.1', description='MW016009.1 |HIV-1 isolate NARI_18-5450_010721 from India pol protein (pol) and gag protein (gag) genes, partial cds', dbxrefs=[])"
            ]
          },
          "metadata": {
            "tags": []
          },
          "execution_count": 5
        }
      ]
    },
    {
      "cell_type": "code",
      "metadata": {
        "colab": {
          "base_uri": "https://localhost:8080/"
        },
        "id": "AofipR45Hlkp",
        "outputId": "cbde7445-3ba0-4b7b-d5cb-597ccd0fa09d"
      },
      "source": [
        "#lets take one DNA sequence of HIV to draw the CGR \r\n",
        "data = str(records[1].seq)\r\n",
        "len(data)"
      ],
      "execution_count": 7,
      "outputs": [
        {
          "output_type": "execute_result",
          "data": {
            "text/plain": [
              "1029"
            ]
          },
          "metadata": {
            "tags": []
          },
          "execution_count": 7
        }
      ]
    },
    {
      "cell_type": "code",
      "metadata": {
        "colab": {
          "base_uri": "https://localhost:8080/",
          "height": 171
        },
        "id": "M5b6FIY6IDN9",
        "outputId": "58efe472-3415-4faa-f88e-b2594463b130"
      },
      "source": [
        "# now the data is a single string contaning the whole dna sequence with the length of 1029\r\n",
        "data"
      ],
      "execution_count": 8,
      "outputs": [
        {
          "output_type": "execute_result",
          "data": {
            "application/vnd.google.colaboratory.intrinsic+json": {
              "type": "string"
            },
            "text/plain": [
              "'CCTCAAATCACTCTTTGGCAGCGACCCCTGGTCTCAATAAAAGTAGGGGGCCAGATAAAAGAGGCTCTCTTAGATACAGGAGCAGATGACACAGTATTAGAAGACATAAATTTGCCAGGAAAATGGAAACCAAAAATGATAGGAGGAATTGGAGGTTTTATCAAAGTAAGACAATATGATCAAATACCTTTAGAAATTTGTGGAAAAAAGGCTATAGGTACAGTGTTAGTAGGACCCACACCTGTCAACATAATTGGAAGAAATCTGTTGACTCAGCTTGGATGCACACTAAATTTTCCAATTAGTCCTATTGAAACTGTACCAGTAAAATTAAAGCCAGGAATGGATGGCCCAAAGGTTAAACAATGGCCATTGACAGAAGAGAAAATAAAAGCATTAACAGAAATTTGTRATGAAATGGAGAAGGAAGGAAAAATTACAAAAATTGGGCCTGAAAATCCATATAATACTCCAATATTTGCCATAAAAAAGAAGGACAGTACTAAGTGGAGAAAATTAGTAGATTTCAGAGAACTCAATAAAAGAACTCAAGATTTTTGGGAAGTCCAATTAGGAATACCACACCCAGCAGGGTTAAAAAAGAAAAAATCAGTGACAGTACTGGATGTGGGGGATGCATATTTTTCAGTTCCTTTATATGAAGATTTCAGGAAATATACAGCATTCACCATACCTAGTATAAACAATGAAACACCAGGGATTAGATATCAATATAATGTGCTACCACAGGGATGGAAAGGATCACCAGCAATATTTCAGTGTAGCATGACAAAAATCTTAGAGCCCTTTAGGACACAAAATCCAGAACTAGTCATCTATCAATATATGGATGACTTGTATGTAGGATCTGACTTAGAAATAGGGCAACATAGAGCAAAGATAGAAGAATTAAGACAACATCTGTTAAAGTGGGGATTTACCACACCAGATAAGAAGCATCAGAAAGAACCCCCTTTCCTTTGGATGGGGTATGAACTCCATCCTGATAAATGGACAGTACAGCCTATA'"
            ]
          },
          "metadata": {
            "tags": []
          },
          "execution_count": 8
        }
      ]
    },
    {
      "cell_type": "code",
      "metadata": {
        "id": "Ac0S-A_fP0j7"
      },
      "source": [
        "k = 4\r\n",
        "len_data = len(data)"
      ],
      "execution_count": 19,
      "outputs": []
    },
    {
      "cell_type": "code",
      "metadata": {
        "id": "bzR86P2hIHjY"
      },
      "source": [
        "#count the occurance of the kmers\r\n",
        "def kmer_count(data , k ):\r\n",
        "  d = defaultdict(int)\r\n",
        "\r\n",
        "  for i in range(len(data) - (k-1)):\r\n",
        "    d[data[i : i+k ]] += 1\r\n",
        "  for key in d.keys():\r\n",
        "    if 'N' in key:\r\n",
        "      del d[key]\r\n",
        "  return d\r\n",
        "kemr_count_dict = kmer_count(data , k)"
      ],
      "execution_count": 11,
      "outputs": []
    },
    {
      "cell_type": "code",
      "metadata": {
        "colab": {
          "base_uri": "https://localhost:8080/"
        },
        "id": "dwPqbpFRJcx7",
        "outputId": "d9e3d69e-26fa-478f-af25-9d779a98dea5"
      },
      "source": [
        "# find the each kmer propability\r\n",
        "def propability_kmer(kmer_count_dict , k , len_data):\r\n",
        "  N = len_data\r\n",
        "  total_len_kemrs = N-k+1\r\n",
        "  prop = defaultdict(float)\r\n",
        "  for key,value in kmer_count_dict.items():\r\n",
        "    prop[key] = float(value) / total_len_kemrs #n(A)/P(s)\r\n",
        "  return prop\r\n",
        "\r\n",
        "\r\n",
        "propability_kmer_dict = propability_kmer(kemr_count_dict , k , len_data)  \r\n",
        "print(propability_kmer_dict )"
      ],
      "execution_count": 18,
      "outputs": [
        {
          "output_type": "stream",
          "text": [
            "defaultdict(<class 'float'>, {'CCTC': 0.0009746588693957114, 'CTCA': 0.004873294346978557, 'TCAA': 0.008771929824561403, 'CAAA': 0.008771929824561403, 'AAAT': 0.021442495126705652, 'AATC': 0.005847953216374269, 'ATCA': 0.007797270955165692, 'TCAC': 0.0029239766081871343, 'CACT': 0.001949317738791423, 'ACTC': 0.005847953216374269, 'CTCT': 0.0029239766081871343, 'TCTT': 0.0029239766081871343, 'CTTT': 0.005847953216374269, 'TTTG': 0.00682261208576998, 'TTGG': 0.00682261208576998, 'TGGC': 0.0029239766081871343, 'GGCA': 0.001949317738791423, 'GCAG': 0.0029239766081871343, 'CAGC': 0.005847953216374269, 'AGCG': 0.0009746588693957114, 'GCGA': 0.0009746588693957114, 'CGAC': 0.0009746588693957114, 'GACC': 0.001949317738791423, 'ACCC': 0.003898635477582846, 'CCCC': 0.0029239766081871343, 'CCCT': 0.0029239766081871343, 'CCTG': 0.003898635477582846, 'CTGG': 0.001949317738791423, 'TGGT': 0.0009746588693957114, 'GGTC': 0.0009746588693957114, 'GTCT': 0.0009746588693957114, 'TCTC': 0.001949317738791423, 'CAAT': 0.010721247563352826, 'AATA': 0.012670565302144249, 'ATAA': 0.011695906432748537, 'TAAA': 0.01364522417153996, 'AAAA': 0.029239766081871343, 'AAAG': 0.01364522417153996, 'AAGT': 0.004873294346978557, 'AGTA': 0.009746588693957114, 'GTAG': 0.004873294346978557, 'TAGG': 0.007797270955165692, 'AGGG': 0.004873294346978557, 'GGGG': 0.005847953216374269, 'GGGC': 0.0029239766081871343, 'GGCC': 0.003898635477582846, 'GCCA': 0.004873294346978557, 'CCAG': 0.008771929824561403, 'CAGA': 0.007797270955165692, 'AGAT': 0.008771929824561403, 'GATA': 0.00682261208576998, 'AAGA': 0.014619883040935672, 'AGAG': 0.004873294346978557, 'GAGG': 0.0029239766081871343, 'AGGC': 0.001949317738791423, 'GGCT': 0.001949317738791423, 'GCTC': 0.0009746588693957114, 'CTTA': 0.0029239766081871343, 'TTAG': 0.010721247563352826, 'TAGA': 0.008771929824561403, 'ATAC': 0.005847953216374269, 'TACA': 0.004873294346978557, 'ACAG': 0.010721247563352826, 'CAGG': 0.00682261208576998, 'AGGA': 0.01364522417153996, 'GGAG': 0.004873294346978557, 'GAGC': 0.0029239766081871343, 'AGCA': 0.007797270955165692, 'GATG': 0.007797270955165692, 'ATGA': 0.008771929824561403, 'TGAC': 0.00682261208576998, 'GACA': 0.009746588693957114, 'ACAC': 0.00682261208576998, 'CACA': 0.00682261208576998, 'CAGT': 0.008771929824561403, 'GTAT': 0.003898635477582846, 'TATT': 0.004873294346978557, 'ATTA': 0.008771929824561403, 'AGAA': 0.018518518518518517, 'GAAG': 0.009746588693957114, 'AGAC': 0.0029239766081871343, 'ACAT': 0.003898635477582846, 'CATA': 0.00682261208576998, 'AATT': 0.012670565302144249, 'ATTT': 0.010721247563352826, 'TTGC': 0.001949317738791423, 'TGCC': 0.001949317738791423, 'GGAA': 0.011695906432748537, 'GAAA': 0.017543859649122806, 'AATG': 0.007797270955165692, 'ATGG': 0.008771929824561403, 'TGGA': 0.012670565302144249, 'AAAC': 0.004873294346978557, 'AACC': 0.001949317738791423, 'ACCA': 0.008771929824561403, 'CCAA': 0.004873294346978557, 'TGAT': 0.0029239766081871343, 'ATAG': 0.004873294346978557, 'GAAT': 0.003898635477582846, 'ATTG': 0.004873294346978557, 'AGGT': 0.0029239766081871343, 'GGTT': 0.0029239766081871343, 'GTTT': 0.0009746588693957114, 'TTTT': 0.005847953216374269, 'TTTA': 0.004873294346978557, 'TTAT': 0.001949317738791423, 'TATC': 0.0029239766081871343, 'GTAA': 0.001949317738791423, 'TAAG': 0.003898635477582846, 'ACAA': 0.00682261208576998, 'ATAT': 0.010721247563352826, 'TATG': 0.004873294346978557, 'GATC': 0.0029239766081871343, 'TACC': 0.005847953216374269, 'ACCT': 0.0029239766081871343, 'CCTT': 0.004873294346978557, 'TTGT': 0.0029239766081871343, 'TGTG': 0.0029239766081871343, 'GTGG': 0.003898635477582846, 'AAGG': 0.005847953216374269, 'GCTA': 0.001949317738791423, 'CTAT': 0.003898635477582846, 'TATA': 0.007797270955165692, 'GGTA': 0.001949317738791423, 'GTAC': 0.004873294346978557, 'AGTG': 0.004873294346978557, 'GTGT': 0.001949317738791423, 'TGTT': 0.0029239766081871343, 'GTTA': 0.003898635477582846, 'TAGT': 0.004873294346978557, 'GGAC': 0.003898635477582846, 'CCCA': 0.0029239766081871343, 'CCAC': 0.003898635477582846, 'CACC': 0.005847953216374269, 'CTGT': 0.003898635477582846, 'TGTC': 0.0009746588693957114, 'GTCA': 0.001949317738791423, 'CAAC': 0.0029239766081871343, 'AACA': 0.00682261208576998, 'TAAT': 0.0029239766081871343, 'ATCT': 0.004873294346978557, 'TCTG': 0.0029239766081871343, 'GTTG': 0.0009746588693957114, 'TTGA': 0.0029239766081871343, 'GACT': 0.0029239766081871343, 'TCAG': 0.00682261208576998, 'AGCT': 0.0009746588693957114, 'GCTT': 0.0009746588693957114, 'CTTG': 0.001949317738791423, 'GGAT': 0.010721247563352826, 'ATGC': 0.001949317738791423, 'TGCA': 0.001949317738791423, 'GCAC': 0.0009746588693957114, 'ACTA': 0.0029239766081871343, 'CTAA': 0.001949317738791423, 'TTTC': 0.005847953216374269, 'TTCC': 0.0029239766081871343, 'TCCA': 0.005847953216374269, 'AGTC': 0.0029239766081871343, 'GTCC': 0.001949317738791423, 'TCCT': 0.003898635477582846, 'CCTA': 0.0029239766081871343, 'TGAA': 0.005847953216374269, 'AACT': 0.004873294346978557, 'ACTG': 0.001949317738791423, 'TGTA': 0.003898635477582846, 'TTAA': 0.005847953216374269, 'AAGC': 0.0029239766081871343, 'AGCC': 0.0029239766081871343, 'GCCC': 0.001949317738791423, 'CCAT': 0.004873294346978557, 'CATT': 0.0029239766081871343, 'GAGA': 0.003898635477582846, 'GCAT': 0.004873294346978557, 'TAAC': 0.0009746588693957114, 'TGTR': 0.0009746588693957114, 'GTRA': 0.0009746588693957114, 'TRAT': 0.0009746588693957114, 'RATG': 0.0009746588693957114, 'TTAC': 0.001949317738791423, 'TGGG': 0.004873294346978557, 'GCCT': 0.001949317738791423, 'CTGA': 0.0029239766081871343, 'ATCC': 0.0029239766081871343, 'TACT': 0.0029239766081871343, 'CTCC': 0.001949317738791423, 'GATT': 0.004873294346978557, 'TTCA': 0.004873294346978557, 'GAAC': 0.004873294346978557, 'CAAG': 0.0009746588693957114, 'GGGA': 0.004873294346978557, 'GGGT': 0.001949317738791423, 'GTGA': 0.0009746588693957114, 'ATGT': 0.0029239766081871343, 'AGTT': 0.0009746588693957114, 'GTTC': 0.0009746588693957114, 'ATTC': 0.0009746588693957114, 'CTAG': 0.001949317738791423, 'GTGC': 0.0009746588693957114, 'TGCT': 0.0009746588693957114, 'CTAC': 0.0009746588693957114, 'GCAA': 0.0029239766081871343, 'TAGC': 0.0009746588693957114, 'CATG': 0.0009746588693957114, 'TCAT': 0.0009746588693957114, 'CATC': 0.003898635477582846, 'TCTA': 0.0009746588693957114, 'ACTT': 0.001949317738791423})\n"
          ],
          "name": "stdout"
        }
      ]
    },
    {
      "cell_type": "code",
      "metadata": {
        "colab": {
          "base_uri": "https://localhost:8080/"
        },
        "id": "_tLSpv26LbxP",
        "outputId": "5008e1f8-7053-42c2-a07e-794096e4e967"
      },
      "source": [
        "# choas game representaton\r\n",
        "def Choas_Game_Representation(propability_kmer_dict , k):\r\n",
        "  array_size = int(math.sqrt(4**k))\r\n",
        "  print(array_size)\r\n",
        "  choas = []\r\n",
        "  #intializing the array\r\n",
        "  for i in range(array_size):\r\n",
        "    choas.append([0] * array_size)\r\n",
        "  print(choas)\r\n",
        "  #initializing the axis\r\n",
        "  maxX = array_size\r\n",
        "  maxY = array_size\r\n",
        "  posX = 1\r\n",
        "  posY = 1\r\n",
        "\r\n",
        "  for key,value in propability_kmer_dict.items():\r\n",
        "    #print(key)\r\n",
        "    for char in key:\r\n",
        "      if char == \"T\":\r\n",
        "                posX += maxX / 2\r\n",
        "      elif char == \"C\":\r\n",
        "                posY += maxY / 2\r\n",
        "      elif char == \"G\":\r\n",
        "                posX += maxX / 2\r\n",
        "                posY += maxY / 2\r\n",
        "      maxX /= 2\r\n",
        "      maxY /= 2\r\n",
        "    posX,posY = int(posX) ,int(posY)\r\n",
        "    choas[posY-1][posX-1] = value\r\n",
        "      #reinitializing to the starting value\r\n",
        "    maxX = array_size\r\n",
        "    maxY = array_size\r\n",
        "    posX = 1\r\n",
        "    posY = 1\r\n",
        "\r\n",
        "  return choas\r\n",
        "choas_rep_matrix = Choas_Game_Representation(propability_kmer_dict , k)\r\n",
        "print(choas_rep_matrix)"
      ],
      "execution_count": 34,
      "outputs": [
        {
          "output_type": "stream",
          "text": [
            "16\n",
            "[[0, 0, 0, 0, 0, 0, 0, 0, 0, 0, 0, 0, 0, 0, 0, 0], [0, 0, 0, 0, 0, 0, 0, 0, 0, 0, 0, 0, 0, 0, 0, 0], [0, 0, 0, 0, 0, 0, 0, 0, 0, 0, 0, 0, 0, 0, 0, 0], [0, 0, 0, 0, 0, 0, 0, 0, 0, 0, 0, 0, 0, 0, 0, 0], [0, 0, 0, 0, 0, 0, 0, 0, 0, 0, 0, 0, 0, 0, 0, 0], [0, 0, 0, 0, 0, 0, 0, 0, 0, 0, 0, 0, 0, 0, 0, 0], [0, 0, 0, 0, 0, 0, 0, 0, 0, 0, 0, 0, 0, 0, 0, 0], [0, 0, 0, 0, 0, 0, 0, 0, 0, 0, 0, 0, 0, 0, 0, 0], [0, 0, 0, 0, 0, 0, 0, 0, 0, 0, 0, 0, 0, 0, 0, 0], [0, 0, 0, 0, 0, 0, 0, 0, 0, 0, 0, 0, 0, 0, 0, 0], [0, 0, 0, 0, 0, 0, 0, 0, 0, 0, 0, 0, 0, 0, 0, 0], [0, 0, 0, 0, 0, 0, 0, 0, 0, 0, 0, 0, 0, 0, 0, 0], [0, 0, 0, 0, 0, 0, 0, 0, 0, 0, 0, 0, 0, 0, 0, 0], [0, 0, 0, 0, 0, 0, 0, 0, 0, 0, 0, 0, 0, 0, 0, 0], [0, 0, 0, 0, 0, 0, 0, 0, 0, 0, 0, 0, 0, 0, 0, 0], [0, 0, 0, 0, 0, 0, 0, 0, 0, 0, 0, 0, 0, 0, 0, 0]]\n",
            "[[0.029239766081871343, 0.021442495126705652, 0.012670565302144249, 0.012670565302144249, 0.011695906432748537, 0.010721247563352826, 0.008771929824561403, 0.010721247563352826, 0.01364522417153996, 0.0009746588693957114, 0.007797270955165692, 0.004873294346978557, 0.005847953216374269, 0.001949317738791423, 0.004873294346978557, 0.005847953216374269], [0.004873294346978557, 0.01364522417153996, 0.005847953216374269, 0.0009746588693957114, 0.005847953216374269, 0.004873294346978557, 0.0009746588693957114, 0.004873294346978557, 0.0009746588693957114, 0.003898635477582846, 0.0029239766081871343, 0.004873294346978557, 0.001949317738791423, 0.010721247563352826, 0.005847953216374269, 0.00682261208576998], [0.00682261208576998, 0.004873294346978557, 0.014619883040935672, 0.004873294346978557, 0.007797270955165692, 0.004873294346978557, 0.008771929824561403, 0.0029239766081871343, 0.004873294346978557, 0.0029239766081871343, 0.008771929824561403, 0.004873294346978557, 0.004873294346978557, 0, 0.0029239766081871343, 0.0029239766081871343], [0.001949317738791423, 0, 0.0029239766081871343, 0.005847953216374269, 0.0029239766081871343, 0, 0.001949317738791423, 0.008771929824561403, 0.005847953216374269, 0, 0.0009746588693957114, 0.007797270955165692, 0.0029239766081871343, 0, 0.001949317738791423, 0.00682261208576998], [0.00682261208576998, 0.003898635477582846, 0.0029239766081871343, 0.001949317738791423, 0.018518518518518517, 0.008771929824561403, 0.009746588693957114, 0.0009746588693957114, 0.008771929824561403, 0.0009746588693957114, 0.0009746588693957114, 0.0029239766081871343, 0.005847953216374269, 0.0029239766081871343, 0.0009746588693957114, 0.0029239766081871343], [0.00682261208576998, 0.010721247563352826, 0.005847953216374269, 0.001949317738791423, 0.0029239766081871343, 0.004873294346978557, 0.0029239766081871343, 0.004873294346978557, 0.0029239766081871343, 0.00682261208576998, 0.001949317738791423, 0.0029239766081871343, 0.00682261208576998, 0, 0.0009746588693957114, 0.0029239766081871343], [0.008771929824561403, 0.0029239766081871343, 0, 0, 0.007797270955165692, 0.0009746588693957114, 0.01364522417153996, 0.0029239766081871343, 0.005847953216374269, 0.003898635477582846, 0, 0, 0.001949317738791423, 0.0009746588693957114, 0.012670565302144249, 0.0009746588693957114], [0.003898635477582846, 0, 0, 0, 0.0029239766081871343, 0.0009746588693957114, 0.001949317738791423, 0.004873294346978557, 0, 0, 0, 0, 0.001949317738791423, 0, 0.0029239766081871343, 0.004873294346978557], [0.008771929824561403, 0.010721247563352826, 0.00682261208576998, 0.0029239766081871343, 0.001949317738791423, 0.003898635477582846, 0.0029239766081871343, 0.005847953216374269, 0.017543859649122806, 0.003898635477582846, 0.00682261208576998, 0.004873294346978557, 0.0009746588693957114, 0.003898635477582846, 0.003898635477582846, 0.0009746588693957114], [0.0029239766081871343, 0.0009746588693957114, 0.003898635477582846, 0.0009746588693957114, 0.0009746588693957114, 0.001949317738791423, 0, 0.001949317738791423, 0.004873294346978557, 0.009746588693957114, 0.0029239766081871343, 0.007797270955165692, 0.004873294346978557, 0.004873294346978557, 0.0009746588693957114, 0.0009746588693957114], [0.00682261208576998, 0.001949317738791423, 0.007797270955165692, 0.008771929824561403, 0.004873294346978557, 0.0029239766081871343, 0.0029239766081871343, 0.003898635477582846, 0.009746588693957114, 0.0029239766081871343, 0.003898635477582846, 0, 0.001949317738791423, 0.0009746588693957114, 0.0009746588693957114, 0.001949317738791423], [0.005847953216374269, 0, 0.005847953216374269, 0.00682261208576998, 0.001949317738791423, 0, 0, 0.001949317738791423, 0.001949317738791423, 0, 0.0029239766081871343, 0.0029239766081871343, 0.001949317738791423, 0, 0.0009746588693957114, 0.003898635477582846], [0.004873294346978557, 0.004873294346978557, 0.0029239766081871343, 0.004873294346978557, 0, 0, 0, 0, 0.0029239766081871343, 0.004873294346978557, 0.001949317738791423, 0.0009746588693957114, 0.011695906432748537, 0.010721247563352826, 0.001949317738791423, 0.0029239766081871343], [0.003898635477582846, 0.008771929824561403, 0.0009746588693957114, 0.003898635477582846, 0.0009746588693957114, 0, 0, 0, 0.0009746588693957114, 0.0029239766081871343, 0.0009746588693957114, 0, 0.003898635477582846, 0.004873294346978557, 0.0009746588693957114, 0], [0.0029239766081871343, 0.0029239766081871343, 0, 0, 0, 0, 0, 0, 0.004873294346978557, 0.001949317738791423, 0.0009746588693957114, 0, 0.001949317738791423, 0.001949317738791423, 0.004873294346978557, 0.001949317738791423], [0.0029239766081871343, 0, 0, 0, 0, 0, 0, 0, 0.001949317738791423, 0, 0, 0, 0.003898635477582846, 0, 0.0029239766081871343, 0.005847953216374269]]\n"
          ],
          "name": "stdout"
        }
      ]
    },
    {
      "cell_type": "code",
      "metadata": {
        "colab": {
          "base_uri": "https://localhost:8080/",
          "height": 633
        },
        "id": "hM7pYJjFSNbx",
        "outputId": "c6ebbe0a-5109-49f5-bd15-449f554ebf89"
      },
      "source": [
        "#draw the representation\r\n",
        "#differensiate the 3-mer and 4-mer\r\n",
        "\r\n",
        "#fiind the frequency\r\n",
        "kmer_count_dict_3 = kmer_count(data , 3)\r\n",
        "kmer_count_dict_4 = kmer_count(data , 4)\r\n",
        "\r\n",
        "#find the propability\r\n",
        "propability_kmer_dict_3 = propability_kmer(kmer_count_dict_3 , 3 , len_data)\r\n",
        "propability_kmer_dict_4 = propability_kmer(kmer_count_dict_4 , 4 , len_data)\r\n",
        "\r\n",
        "#find the matrixand draw\r\n",
        "\r\n",
        "choas_rep_matrix_3 = Choas_Game_Representation(propability_kmer_dict_3 , 3)\r\n",
        "pylab.title('Chaos game representation for 3-mers')\r\n",
        "pylab.imshow(choas_rep_matrix_3, interpolation='nearest', cmap=cm.gray_r)\r\n",
        "pylab.show()\r\n",
        "\r\n",
        "\r\n",
        "\r\n",
        "choas_rep_matrix_4 = Choas_Game_Representation(propability_kmer_dict_4 , 4)\r\n",
        "pylab.title('Chaos game representation for 4-mers')\r\n",
        "pylab.imshow(choas_rep_matrix_4, interpolation='nearest', cmap=cm.gray_r)\r\n",
        "pylab.show()"
      ],
      "execution_count": 37,
      "outputs": [
        {
          "output_type": "stream",
          "text": [
            "8\n",
            "[[0, 0, 0, 0, 0, 0, 0, 0], [0, 0, 0, 0, 0, 0, 0, 0], [0, 0, 0, 0, 0, 0, 0, 0], [0, 0, 0, 0, 0, 0, 0, 0], [0, 0, 0, 0, 0, 0, 0, 0], [0, 0, 0, 0, 0, 0, 0, 0], [0, 0, 0, 0, 0, 0, 0, 0], [0, 0, 0, 0, 0, 0, 0, 0]]\n"
          ],
          "name": "stdout"
        },
        {
          "output_type": "display_data",
          "data": {
            "image/png": "[encoded data removed]",
            "text/plain": [
              "<Figure size 432x288 with 1 Axes>"
            ]
          },
          "metadata": {
            "tags": [],
            "needs_background": "light"
          }
        },
        {
          "output_type": "stream",
          "text": [
            "16\n",
            "[[0, 0, 0, 0, 0, 0, 0, 0, 0, 0, 0, 0, 0, 0, 0, 0], [0, 0, 0, 0, 0, 0, 0, 0, 0, 0, 0, 0, 0, 0, 0, 0], [0, 0, 0, 0, 0, 0, 0, 0, 0, 0, 0, 0, 0, 0, 0, 0], [0, 0, 0, 0, 0, 0, 0, 0, 0, 0, 0, 0, 0, 0, 0, 0], [0, 0, 0, 0, 0, 0, 0, 0, 0, 0, 0, 0, 0, 0, 0, 0], [0, 0, 0, 0, 0, 0, 0, 0, 0, 0, 0, 0, 0, 0, 0, 0], [0, 0, 0, 0, 0, 0, 0, 0, 0, 0, 0, 0, 0, 0, 0, 0], [0, 0, 0, 0, 0, 0, 0, 0, 0, 0, 0, 0, 0, 0, 0, 0], [0, 0, 0, 0, 0, 0, 0, 0, 0, 0, 0, 0, 0, 0, 0, 0], [0, 0, 0, 0, 0, 0, 0, 0, 0, 0, 0, 0, 0, 0, 0, 0], [0, 0, 0, 0, 0, 0, 0, 0, 0, 0, 0, 0, 0, 0, 0, 0], [0, 0, 0, 0, 0, 0, 0, 0, 0, 0, 0, 0, 0, 0, 0, 0], [0, 0, 0, 0, 0, 0, 0, 0, 0, 0, 0, 0, 0, 0, 0, 0], [0, 0, 0, 0, 0, 0, 0, 0, 0, 0, 0, 0, 0, 0, 0, 0], [0, 0, 0, 0, 0, 0, 0, 0, 0, 0, 0, 0, 0, 0, 0, 0], [0, 0, 0, 0, 0, 0, 0, 0, 0, 0, 0, 0, 0, 0, 0, 0]]\n"
          ],
          "name": "stdout"
        },
        {
          "output_type": "display_data",
          "data": {
            "image/png": "[encoded data removed]",
            "text/plain": [
              "<Figure size 432x288 with 1 Axes>"
            ]
          },
          "metadata": {
            "tags": [],
            "needs_background": "light"
          }
        }
      ]
    },
    {
      "cell_type": "code",
      "metadata": {
        "id": "Zr9jPW-QTO2C"
      },
      "source": [
        ""
      ],
      "execution_count": null,
      "outputs": []
    }
  ]
}